{
 "cells": [
  {
   "cell_type": "code",
   "execution_count": 118,
   "metadata": {
    "collapsed": true
   },
   "outputs": [],
   "source": [
    "import os, sys, yaml, re\n",
    "from IPython.display import display, Markdown, Latex #Can write latex too!!!!"
   ]
  },
  {
   "cell_type": "markdown",
   "metadata": {},
   "source": [
    "### Importing short chains from TASCA"
   ]
  },
  {
   "cell_type": "code",
   "execution_count": 119,
   "metadata": {},
   "outputs": [
    {
     "name": "stdout",
     "output_type": "stream",
     "text": [
      "Files: ['Chain1401.yml', 'Chain1402.yml', 'Chain1403.yml', 'Chain1404.yml', 'Chain1405.yml', 'Chain1406.yml', 'Chain1407.yml']\n",
      "0\n",
      "1\n",
      "2\n",
      "3\n",
      "4\n"
     ]
    },
    {
     "data": {
      "text/markdown": [
       "|  |  |  |  |  | \n",
       "|:---:| :---:| :---:| :---:| :---:| \n",
       "| **ID** | $E_{lab}$ (MeV) | $E_{rec}$ (MeV) | $E_0$ (MeV) | $E_1$ (MeV) | \n",
       "|  |  | **pixel** | $\\Delta t_0$ (s) | $\\Delta t_1$ (s) | \n",
       "| 1401 | 245.0 | 12.3 | 10.51 | 242.0 | \n",
       "|  |  | 268 | 0.227 | 0.378 | \n"
      ],
      "text/plain": [
       "<IPython.core.display.Markdown object>"
      ]
     },
     "metadata": {},
     "output_type": "display_data"
    },
    {
     "data": {
      "text/plain": [
       "'|  |  |  |  |  | \\n|:---:| :---:| :---:| :---:| :---:| \\n| **ID** | $E_{lab}$ (MeV) | $E_{rec}$ (MeV) | $E_0$ (MeV) | $E_1$ (MeV) | \\n|  |  | **pixel** | $\\\\Delta t_0$ (s) | $\\\\Delta t_1$ (s) | \\n| 1401 | 245.0 | 12.3 | 10.51 | 242.0 | \\n|  |  | 268 | 0.227 | 0.378 | \\n'"
      ]
     },
     "execution_count": 119,
     "metadata": {},
     "output_type": "execute_result"
    }
   ],
   "source": [
    "class DecayChain(yaml.YAMLObject):\n",
    "\n",
    "    yaml_tag = u'!DecayChain'\n",
    "    \n",
    "    def __init__(self, idd=\"\", be=\"\", pi=\"\", ie=\"\", it=\"\", ea=[], eas=[], ta=[]):\n",
    "        self.ID = idd\n",
    "        self.BeamEnergy = be\n",
    "        self.Pixel = pi\n",
    "        self.ImplantEnergy = ie\n",
    "        self.ImplantTime = it\n",
    "        self.EAlpha, self.EAlphaSigma, self.TAlpha = ea, eas, ta\n",
    "        \n",
    "    def __repr__(self):\n",
    "        return yaml.dump(self)\n",
    "    \n",
    "    def MDTable(self):\n",
    "        #Data to insert\n",
    "        rows = []\n",
    "        rows.append(['**ID**', '$E_{lab}$ (MeV)', '$E_{rec}$ (MeV)']) #'$E_1$ (MeV)', '$E_2$ (MeV)']\n",
    "        rows.append(['', '', '**pixel**']) #'**$\\Delta t_2$ (s)**']\n",
    "        rows.append([self.ID, self.BeamEnergy, self.ImplantEnergy])\n",
    "        rows.append(['', '', self.Pixel])\n",
    "        for i in range(len(self.EAlpha)):\n",
    "            rows[0].append('$E_'+str(i)+'$ (MeV)')\n",
    "            rows[1].append('$\\Delta t_'+str(i)+'$ (s)')\n",
    "            rows[2].append(self.EAlpha[i])\n",
    "            rows[3].append(self.TAlpha[i])\n",
    "        rows[2] = [str(i) for i in rows[2]]\n",
    "        rows[3] = [str(i) for i in rows[3]]\n",
    "        \n",
    "        #Formatting strings where data is to be put in\n",
    "        s_format = \"\"\"| \"\"\"\n",
    "        s_hline = \"\"\"|\"\"\"\n",
    "        s_empty = \"\"\"| \"\"\"\n",
    "\n",
    "        for i in range(len(rows[0])):\n",
    "            print(i)\n",
    "            s_format += \"\"\"{\"\"\"+str(i)+\"\"\"} | \"\"\"\n",
    "            s_hline += \"\"\":---:| \"\"\"\n",
    "            s_empty += \"\"\" | \"\"\"\n",
    "            if i == len(rows[0])-1:\n",
    "                s_format += \"\"\"\\n\"\"\"\n",
    "                s_hline += \"\"\"\\n\"\"\"\n",
    "                s_empty += \"\"\"\\n\"\"\"\n",
    "\n",
    "        s_md = \"\"\"\"\"\"\n",
    "        s_md += s_empty+s_hline\n",
    "        for r in rows: \n",
    "            s_md += s_format.format(*r)\n",
    "        \n",
    "        #print(\"string:\\n\", s_md)\n",
    "        #print(Markdown(s_md))\n",
    "        display(Markdown(s_md))\n",
    "        return s_md\n",
    "        \n",
    "s_in = \"E115_Chains/\"\n",
    "s_id = \"14\"\n",
    "\n",
    "s_files = \" \".join(os.listdir(s_in))\n",
    "files = sorted(re.findall(string=s_files, pattern=\"Chain\"+s_id+\"\\d+.yml\"))\n",
    "print(\"Files:\", files)\n",
    "\n",
    "f_in = open(s_in+files[0], 'r')\n",
    "chain = yaml.load(f_in)\n",
    "f_in.close()\n",
    "chain.MDTable()"
   ]
  },
  {
   "cell_type": "code",
   "execution_count": 81,
   "metadata": {},
   "outputs": [
    {
     "data": {
      "text/markdown": [
       "\n",
       "   #### This is a table filled with data from a python `list`\n",
       "   Element  | Symbol $E_1$   |   Number\n",
       "   -------- | --- | ----------\n",
       "   Hydrogen | H   | 1\n",
       "\n",
       "   (triple quotes infer a _string literal_ that can span several lines)\n"
      ],
      "text/plain": [
       "<IPython.core.display.Markdown object>"
      ]
     },
     "execution_count": 81,
     "metadata": {},
     "output_type": "execute_result"
    }
   ],
   "source": [
    "from IPython.display import Markdown\n",
    "data = ['Hydrogen', 'H', '1'] # python list\n",
    "\n",
    "Markdown('''\n",
    "   #### This is a table filled with data from a python `list`\n",
    "   Element  | Symbol $E_1$   |   Number\n",
    "   -------- | --- | ----------\n",
    "   {d[0]} | {d[1]}   | {d[2]}\n",
    "\n",
    "   (triple quotes infer a _string literal_ that can span several lines)\n",
    "'''.format(d=data))"
   ]
  },
  {
   "cell_type": "code",
   "execution_count": 91,
   "metadata": {},
   "outputs": [
    {
     "name": "stdout",
     "output_type": "stream",
     "text": [
      "| ID | $E_{lab}$ (MeV) | $E_{rec}$ (MeV) | $E_1$ (MeV) | $E_2$ (MeV) | \n",
      "|:---:| :---:| :---:| :---:| :---:| \n",
      "| 1401 | 245.0 | 12.3 | 10.51 | 242.0 | \n",
      "|  |  | **pixel** | **$\\Delta t_1$ (s)** | **$\\Delta t_2$ (s)** | \n",
      "|  |  | 268 | 0.227 | 0.378 | \n",
      "\n"
     ]
    },
    {
     "data": {
      "text/markdown": [
       "| ID | $E_{lab}$ (MeV) | $E_{rec}$ (MeV) | $E_1$ (MeV) | $E_2$ (MeV) | \n",
       "|:---:| :---:| :---:| :---:| :---:| \n",
       "| 1401 | 245.0 | 12.3 | 10.51 | 242.0 | \n",
       "|  |  | **pixel** | **$\\Delta t_1$ (s)** | **$\\Delta t_2$ (s)** | \n",
       "|  |  | 268 | 0.227 | 0.378 | \n"
      ],
      "text/plain": [
       "<IPython.core.display.Markdown object>"
      ]
     },
     "execution_count": 91,
     "metadata": {},
     "output_type": "execute_result"
    }
   ],
   "source": [
    "table = list()\n",
    "header1 = ['ID', '$E_{lab}$ (MeV)', '$E_{rec}$ (MeV)', '$E_1$ (MeV)', '$E_2$ (MeV)']\n",
    "header2 = ['', '', '**pixel**', '**$\\Delta t_1$ (s)**', '**$\\Delta t_2$ (s)**']\n",
    "\n",
    "s_format = \"\"\"| \"\"\"\n",
    "s_hline = \"\"\"|\"\"\"\n",
    "\n",
    "for i in range(len(header1)):\n",
    "    s_format += \"\"\"{\"\"\"+str(i)+\"\"\"} | \"\"\"\n",
    "    s_hline += \"\"\":---:| \"\"\"\n",
    "#print(s_format, s_new_row)\n",
    "s_hline += \"\"\"\\n\"\"\"\n",
    "s_header1 = s_format.format(*header1)+\"\"\"\\n\"\"\"\n",
    "s_header2 = s_format.format(*header2)+\"\"\"\\n\"\"\"\n",
    "\n",
    "l_chain = chain.MakeRows(2)\n",
    "s_chain1 = s_format.format(*l_chain[0])+\"\"\"\\n\"\"\"\n",
    "s_chain2 = s_format.format(*l_chain[1])+\"\"\"\\n\"\"\"\n",
    "\n",
    "s_table = s_header1+s_hline+s_chain1+s_header2+s_chain2\n",
    "print(s_table)\n",
    "\n",
    "Markdown(data=s_table)\n"
   ]
  },
  {
   "cell_type": "code",
   "execution_count": 47,
   "metadata": {},
   "outputs": [
    {
     "data": {
      "text/markdown": [
       "$E_{rec}$ (MeV)\n",
       "\n",
       "pixel"
      ],
      "text/plain": [
       "<IPython.core.display.Markdown object>"
      ]
     },
     "execution_count": 47,
     "metadata": {},
     "output_type": "execute_result"
    }
   ],
   "source": [
    "Markdown(data=\"\"\"$E_{rec}$ (MeV)\\n\n",
    "pixel\"\"\")"
   ]
  },
  {
   "cell_type": "code",
   "execution_count": 73,
   "metadata": {},
   "outputs": [
    {
     "name": "stdout",
     "output_type": "stream",
     "text": [
      "['1401', '245.0', '12.3', '10.51', '242.0'] ['', '', '268', '0.227', '0.378']\n"
     ]
    }
   ],
   "source": [
    "l = chain.MakeRows(2)\n",
    "print(l[0], l[1])"
   ]
  },
  {
   "cell_type": "code",
   "execution_count": 99,
   "metadata": {},
   "outputs": [
    {
     "name": "stdout",
     "output_type": "stream",
     "text": [
      "[1, [1, 2, 3], 4, 5, 6]\n"
     ]
    }
   ],
   "source": [
    "a = [1]\n",
    "a.append([1,2,3])\n",
    "a += [4,5,6]\n",
    "print(a)"
   ]
  }
 ],
 "metadata": {
  "kernelspec": {
   "display_name": "Python 3",
   "language": "python",
   "name": "python3"
  },
  "language_info": {
   "codemirror_mode": {
    "name": "ipython",
    "version": 3
   },
   "file_extension": ".py",
   "mimetype": "text/x-python",
   "name": "python",
   "nbconvert_exporter": "python",
   "pygments_lexer": "ipython3",
   "version": "3.6.3"
  }
 },
 "nbformat": 4,
 "nbformat_minor": 2
}

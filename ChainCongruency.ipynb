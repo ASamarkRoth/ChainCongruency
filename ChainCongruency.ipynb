{
 "cells": [
  {
   "cell_type": "markdown",
   "metadata": {},
   "source": [
    "# Statistical analysis on the congruency of decay chains of superheavy nuclei"
   ]
  },
  {
   "cell_type": "markdown",
   "metadata": {
    "collapsed": true
   },
   "source": [
    "## Content\n",
    "\n",
    "* Introduction to the notebook and a background to the analysis (motivate the need)\n",
    "    * Include dispute and connection to naming? \n",
    "    * Present limitation to short chains. \n",
    "* Decay chains\n",
    "    * What is a decay chain?\n",
    "    * Representation here. \n",
    "    * Keep notation consistent with papers.\n",
    "    * Files are yaml and here markdown table printing. \n",
    "* Problem formulation\n",
    "    * The Schmidt test, its limitations and motivation for generalisation.\n",
    "    * The generalised Schmidt test as proposed by Ulrika Forsberg.\n",
    "    * Illustrate the need with an example. Could be two different origins and sampled data and compare the results. \n",
    "* Calculations\n",
    "    * Reproducible tables from articles (markdowned), i.e. simply insert decay chain data into formulas.\n",
    "    * Confidence limits from simulations (speed up?). \n",
    "    * Write data to file or just store final value? How to do this?\n",
    "* Visualisations\n",
    "    * What here?"
   ]
  },
  {
   "cell_type": "markdown",
   "metadata": {},
   "source": [
    "## Implementation"
   ]
  },
  {
   "cell_type": "markdown",
   "metadata": {},
   "source": [
    "Structure of previous decay chain input file:"
   ]
  },
  {
   "cell_type": "code",
   "execution_count": 2,
   "metadata": {},
   "outputs": [
    {
     "name": "stdout",
     "output_type": "stream",
     "text": [
      "1301    //ID\r\n",
      "242.1   //Beam energy\r\n",
      "465     //Pixel or similar\r\n",
      "0       //Extra\r\n",
      "0       //Extra\r\n",
      "13.4    //Implantation energy\r\n",
      "0       //Implantation time == 0\r\n",
      "10.29   //First energy\r\n",
      "10      //Energy uncertainty\r\n",
      "0.366   //First time\r\n",
      "9.24    //Second energy\r\n",
      "10      //Energy uncertainty\r\n",
      "0.935   //Second time\r\n",
      "9.77    //Third energy\r\n",
      "10\r\n",
      "11.1\r\n",
      "0.825\r\n",
      "30\r\n",
      "0.515\r\n",
      "9.06\r\n",
      "10\r\n",
      "15.3\r\n",
      "197\r\n",
      "0       //Fission uncertainty == 0\r\n",
      "17.4\r\n"
     ]
    }
   ],
   "source": [
    "!cat UF_C++/E115_chains/chain_example.txt "
   ]
  }
 ],
 "metadata": {
  "kernelspec": {
   "display_name": "Python 3",
   "language": "python",
   "name": "python3"
  },
  "language_info": {
   "codemirror_mode": {
    "name": "ipython",
    "version": 3
   },
   "file_extension": ".py",
   "mimetype": "text/x-python",
   "name": "python",
   "nbconvert_exporter": "python",
   "pygments_lexer": "ipython3",
   "version": "3.5.2"
  }
 },
 "nbformat": 4,
 "nbformat_minor": 2
}

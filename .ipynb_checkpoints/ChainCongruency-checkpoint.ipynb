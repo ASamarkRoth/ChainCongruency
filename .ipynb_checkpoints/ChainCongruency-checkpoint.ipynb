{
 "cells": [
  {
   "cell_type": "markdown",
   "metadata": {},
   "source": [
    "# Statistical analysis on the congruency of decay chains of superheavy nuclei"
   ]
  },
  {
   "cell_type": "markdown",
   "metadata": {
    "collapsed": true
   },
   "source": [
    "## Content\n",
    "\n",
    "* Introduction to the notebook and a background to the analysis (motivate the need)\n",
    "    * Include dispute and connection to naming? \n",
    "    * Present limitation to short chains. \n",
    "* Decay chains\n",
    "    * What is a decay chain?\n",
    "    * Representation here. \n",
    "    * Keep notation consistent with papers.\n",
    "    * Files are yaml and here markdown table printing. \n",
    "* Problem formulation\n",
    "    * The Schmidt test, its limitations and motivation for generalisation.\n",
    "    * The generalised Schmidt test as proposed by Ulrika Forsberg.\n",
    "    * Illustrate the need with an example. Could be two different origins and sampled data and compare the results. \n",
    "* Calculations\n",
    "    * Reproducible tables from articles (markdowned), i.e. simply insert decay chain data into formulas.\n",
    "    * Confidence limits from simulations (speed up?). \n",
    "    * Write data to file or just store final value? How to do this?\n",
    "* Visualisations\n",
    "    * What here?"
   ]
  }
 ],
 "metadata": {
  "kernelspec": {
   "display_name": "Python 3",
   "language": "python",
   "name": "python3"
  },
  "language_info": {
   "codemirror_mode": {
    "name": "ipython",
    "version": 3
   },
   "file_extension": ".py",
   "mimetype": "text/x-python",
   "name": "python",
   "nbconvert_exporter": "python",
   "pygments_lexer": "ipython3",
   "version": "3.6.3"
  }
 },
 "nbformat": 4,
 "nbformat_minor": 2
}

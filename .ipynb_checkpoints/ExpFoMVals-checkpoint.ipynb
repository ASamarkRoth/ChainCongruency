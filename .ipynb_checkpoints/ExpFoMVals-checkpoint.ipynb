{
 "cells": [
  {
   "cell_type": "markdown",
   "metadata": {},
   "source": [
    "# Experimental FoM values are calculated"
   ]
  },
  {
   "cell_type": "markdown",
   "metadata": {},
   "source": [
    "According to the method layed out in [U. Forsberg et al., Physics Letters B](http://www.sciencedirect.com/science/article/pii/S0375947416300768?via%3Dihub)."
   ]
  },
  {
   "cell_type": "code",
   "execution_count": 1,
   "metadata": {
    "collapsed": true
   },
   "outputs": [],
   "source": [
    "import numpy as np\n",
    "import os, sys, yaml, re\n",
    "from IPython.display import display, Markdown, Latex #Can write latex too!!!!"
   ]
  },
  {
   "cell_type": "code",
   "execution_count": 2,
   "metadata": {
    "collapsed": true
   },
   "outputs": [],
   "source": [
    "class DecayChain(yaml.YAMLObject):\n",
    "    \n",
    "    yaml_tag = u'!DecayChain'\n",
    "    \n",
    "    def __init__(self, idd=\"\", be=\"\", pi=\"\", ie=\"\", it=\"\", ea=[], eas=[], ta=[]):\n",
    "        self.ID = idd\n",
    "        self.BeamEnergy = be\n",
    "        self.Pixel = pi\n",
    "        self.ImplantEnergy = ie\n",
    "        self.ImplantTime = it\n",
    "        self.EAlpha, self.EAlphaSigma, self.TAlpha = ea, eas, ta\n",
    "\n",
    "class SetDecayChains:\n",
    "    \n",
    "    def __init__(self, path='', ids=[]):\n",
    "        s_files = \" \".join(os.listdir(path))\n",
    "        files = []\n",
    "        for s in ids:\n",
    "            files += (sorted(re.findall(string=s_files, pattern=\"Chain\"+s+\"\\d+.yml\")))\n",
    "        print(\"Reading the following files:\", files)\n",
    "        self.Chains = []\n",
    "        for f in files:\n",
    "            f_in = open(path+f, 'r')\n",
    "            self.Chains.append(yaml.load(f_in))\n",
    "            f_in.close()"
   ]
  },
  {
   "cell_type": "code",
   "execution_count": 3,
   "metadata": {},
   "outputs": [
    {
     "name": "stdout",
     "output_type": "stream",
     "text": [
      "Reading the following files: ['Chain1401.yml', 'Chain1402.yml', 'Chain1403.yml', 'Chain1404.yml', 'Chain1405.yml', 'Chain1406.yml', 'Chain1407.yml', 'Chain1101.yml', 'Chain1102.yml', 'Chain1103.yml', 'Chain1104.yml', 'Chain1701.yml', 'Chain1702.yml', 'Chain1703.yml']\n",
      "Max steps= 3\n"
     ]
    },
    {
     "data": {
      "text/plain": [
       "array([[  2.27000000e-01,   3.78000000e-01,              nan],\n",
       "       [  6.45000000e-02,   3.66000000e-01,              nan],\n",
       "       [  2.61000000e-01,   1.15000000e+00,   3.43000000e-01],\n",
       "       [  1.46000000e+00,   2.62000000e-02,   4.32000000e-01],\n",
       "       [  3.45000000e-01,   3.69000000e-01,   1.44000000e+01],\n",
       "       [  2.10000000e-01,   1.05000000e+00,   8.27000000e+00],\n",
       "       [  8.15000000e-01,   2.33000000e+00,   2.89000000e+00],\n",
       "       [  2.56200000e-01,   1.40270000e+00,   1.97750000e+00],\n",
       "       [  6.61000000e-02,   1.55000000e+00,   2.36380000e+00],\n",
       "       [  2.35070000e+00,   2.25822000e+01,   6.01855000e+01],\n",
       "       [  5.36000000e-02,   4.67100000e-01,   9.08000000e-02],\n",
       "       [  2.14000000e-01,   1.54000000e+00,   7.57000000e+00],\n",
       "       [  5.91000000e-02,   8.24000000e-01,              nan],\n",
       "       [  4.55000000e-02,   1.42000000e-02,              nan]])"
      ]
     },
     "execution_count": 3,
     "metadata": {},
     "output_type": "execute_result"
    }
   ],
   "source": [
    "s_path = \"E115_Chains/\"\n",
    "s_id = [\"14\", \"11\", \"17\"]\n",
    "\n",
    "setDC = SetDecayChains(s_path, s_id)\n",
    "max_steps = 0\n",
    "for chain in setDC.Chains:\n",
    "    if len(chain.TAlpha) > max_steps:\n",
    "        max_steps = len(chain.TAlpha)\n",
    "print(\"Max steps=\", max_steps)\n",
    "times = np.zeros((len(setDC.Chains), max_steps))\n",
    "for row, chain in enumerate(setDC.Chains):\n",
    "    steps = len(chain.TAlpha)\n",
    "    for i in range(max_steps):\n",
    "        if i < steps:\n",
    "            times[row][i] = chain.TAlpha[i]\n",
    "        else:\n",
    "            times[row][i] = np.nan       \n",
    "times"
   ]
  },
  {
   "cell_type": "code",
   "execution_count": 4,
   "metadata": {
    "collapsed": true
   },
   "outputs": [],
   "source": [
    "def fom_smeared(N_j, t_bar, times):\n",
    "    ret = np.zeros((len(times[:]), len(N_j)))\n",
    "    for i, t in enumerate(times[:]):\n",
    "        temp = np.empty(len(t))\n",
    "        prod = np.empty(len(t))\n",
    "        np.multiply(N_j, t_bar, out=prod)\n",
    "        np.power(prod, np.subtract(N_j,1), out=temp) #numerator\n",
    "        np.divide(temp, np.power(np.add(prod, t), N_j), out=temp) #division with denominator\n",
    "        np.multiply(temp, np.multiply(t, np.subtract(N_j, 1)), out=temp)\n",
    "        ret[i] = temp\n",
    "    return ret"
   ]
  },
  {
   "cell_type": "code",
   "execution_count": 5,
   "metadata": {},
   "outputs": [
    {
     "data": {
      "text/plain": [
       "array([14, 14, 10])"
      ]
     },
     "execution_count": 5,
     "metadata": {},
     "output_type": "execute_result"
    }
   ],
   "source": [
    "N_j = np.count_nonzero(~np.isnan(times), axis=0)\n",
    "N_j"
   ]
  },
  {
   "cell_type": "code",
   "execution_count": 6,
   "metadata": {},
   "outputs": [
    {
     "data": {
      "text/plain": [
       "array([ 0.45912143,  2.4321    ,  9.85226   ])"
      ]
     },
     "execution_count": 6,
     "metadata": {},
     "output_type": "execute_result"
    }
   ],
   "source": [
    "t_bar = np.nanmean(times, axis=0)\n",
    "t_bar"
   ]
  },
  {
   "cell_type": "markdown",
   "metadata": {},
   "source": [
    "## Table 4 values and here individual"
   ]
  },
  {
   "cell_type": "code",
   "execution_count": 7,
   "metadata": {},
   "outputs": [
    {
     "data": {
      "text/plain": [
       "array([[ 0.28241857,  0.12365139,         nan],\n",
       "       [ 0.11343299,  0.12031173,         nan],\n",
       "       [ 0.30235879,  0.27578495,  0.03026268],\n",
       "       [ 0.16815648,  0.00989597,  0.03777367],\n",
       "       [ 0.3355981 ,  0.12114996,  0.33621655],\n",
       "       [ 0.27079382,  0.26203541,  0.33741097],\n",
       "       [ 0.30989659,  0.35216391,  0.19771698],\n",
       "       [ 0.29979615,  0.30432922,  0.14808697],\n",
       "       [ 0.11584649,  0.31732229,  0.17035299],\n",
       "       [ 0.06054081,  0.00695519,  0.04672682],\n",
       "       [ 0.09650753,  0.1473675 ,  0.00821849],\n",
       "       [ 0.27363418,  0.31651753,  0.32984525],\n",
       "       [ 0.10515417,  0.22509897,         nan],\n",
       "       [ 0.08337026,  0.00538998,         nan]])"
      ]
     },
     "execution_count": 7,
     "metadata": {},
     "output_type": "execute_result"
    }
   ],
   "source": [
    "fom = fom_smeared(N_j, t_bar, times)\n",
    "fom"
   ]
  },
  {
   "cell_type": "code",
   "execution_count": 8,
   "metadata": {},
   "outputs": [
    {
     "data": {
      "text/plain": [
       "array([ 0.28241857,  0.11343299,  0.30235879,  0.16815648,  0.3355981 ,\n",
       "        0.27079382,  0.30989659,  0.29979615,  0.11584649,  0.06054081,\n",
       "        0.09650753,  0.27363418,  0.10515417,  0.08337026])"
      ]
     },
     "execution_count": 8,
     "metadata": {},
     "output_type": "execute_result"
    }
   ],
   "source": [
    "fom[:, 0]"
   ]
  },
  {
   "cell_type": "markdown",
   "metadata": {},
   "source": [
    "### Geometric and final average"
   ]
  },
  {
   "cell_type": "code",
   "execution_count": 11,
   "metadata": {},
   "outputs": [
    {
     "data": {
      "text/plain": [
       "array([ 0.18687282,  0.11682174,  0.13614452,  0.03976068,  0.23910424,\n",
       "        0.28821681,  0.27839955,  0.23817464,  0.18432224,  0.02699652,\n",
       "        0.04889355,  0.30569813,  0.15385089,  0.02119821])"
      ]
     },
     "execution_count": 11,
     "metadata": {},
     "output_type": "execute_result"
    }
   ],
   "source": [
    "def g_nan_mean(data):\n",
    "    ret = np.empty(np.shape(data)[0])\n",
    "    for i in range(len(data[:, 0])):\n",
    "        temp = 1\n",
    "        steps = 0\n",
    "        for j in range(np.shape(data)[1]):\n",
    "            if not np.isnan(data[i,j]):\n",
    "                temp *= data[i,j]\n",
    "            else:\n",
    "                break\n",
    "            steps += 1\n",
    "        ret[i] = temp**(1./steps)\n",
    "    return ret\n",
    "    \n",
    "#    if axis == -1:\n",
    "#        ret = data.flatten()\n",
    "#    else:\n",
    "#        ret = data[axis]\n",
    "#    print(ret)\n",
    "\n",
    "fom_geom = g_nan_mean(fom)\n",
    "fom_geom"
   ]
  },
  {
   "cell_type": "code",
   "execution_count": 12,
   "metadata": {},
   "outputs": [
    {
     "data": {
      "text/plain": [
       "0.16174675263817667"
      ]
     },
     "execution_count": 12,
     "metadata": {},
     "output_type": "execute_result"
    }
   ],
   "source": [
    "fom_final = np.mean(fom_geom)\n",
    "fom_final"
   ]
  }
 ],
 "metadata": {
  "kernelspec": {
   "display_name": "Python 3",
   "language": "python",
   "name": "python3"
  },
  "language_info": {
   "codemirror_mode": {
    "name": "ipython",
    "version": 3
   },
   "file_extension": ".py",
   "mimetype": "text/x-python",
   "name": "python",
   "nbconvert_exporter": "python",
   "pygments_lexer": "ipython3",
   "version": "3.6.3"
  }
 },
 "nbformat": 4,
 "nbformat_minor": 2
}

{
 "cells": [
  {
   "cell_type": "markdown",
   "metadata": {},
   "source": [
    "In this file is the implementation of the new decay chain files with: \n",
    "* How a chain is represented in the code.\n",
    "* How a chain is created and written to yaml-file. \n",
    "* How a chain is printed in markdown. "
   ]
  },
  {
   "cell_type": "markdown",
   "metadata": {},
   "source": [
    "Structure of previous decay chain input file:"
   ]
  },
  {
   "cell_type": "code",
   "execution_count": 34,
   "metadata": {},
   "outputs": [
    {
     "name": "stdout",
     "output_type": "stream",
     "text": [
      "1301    //ID\n",
      "242.1   //Beam energy\n",
      "465     //Pixel or similar\n",
      "0       //Extra\n",
      "0       //Extra\n",
      "13.4    //Implantation energy\n",
      "0       //Implantation time == 0\n",
      "10.29   //First energy\n",
      "10      //Energy uncertainty\n",
      "0.366   //First time\n",
      "9.24    //Second energy\n",
      "10      //Energy uncertainty\n",
      "0.935   //Second time\n",
      "9.77    //Third energy\n",
      "10\n",
      "11.1\n",
      "0.825\n",
      "30\n",
      "0.515\n",
      "9.06\n",
      "10\n",
      "15.3\n",
      "197\n",
      "0       //Fission uncertainty == 0\n",
      "17.4\n",
      "Next\n",
      "1403\n",
      "242.1\n",
      "681\n",
      "0\n",
      "0\n",
      "13.9\n",
      "0\n",
      "10.54\n",
      "40\n",
      "0.261\n",
      "9.95\n",
      "50\n",
      "1.15\n",
      "196\n",
      "0\n",
      "0.343\n"
     ]
    }
   ],
   "source": [
    "!cat UF_C++/E115_chains/chain_example.txt \n",
    "print(\"Next\")\n",
    "!cat UF_C++/E115_chains/chain1403.txt "
   ]
  },
  {
   "cell_type": "code",
   "execution_count": 3,
   "metadata": {},
   "outputs": [],
   "source": [
    "import numpy as np\n",
    "import yaml\n",
    "import sys\n",
    "from collections import OrderedDict"
   ]
  },
  {
   "cell_type": "code",
   "execution_count": 6,
   "metadata": {
    "collapsed": true
   },
   "outputs": [],
   "source": [
    "def dump_anydict_as_map(anydict):\n",
    "    yaml.add_representer(anydict, _represent_dictorder)\n",
    "\n",
    "def _represent_dictorder(self, data):\n",
    "    if isinstance(data, DecayChain):\n",
    "        return self.represent_mapping('tag:yaml.org,2002:map', data.__getstate__().items())\n",
    "    else:\n",
    "        return self.represent_mapping('tag:yaml.org,2002:map', data.items())"
   ]
  },
  {
   "cell_type": "code",
   "execution_count": 2,
   "metadata": {},
   "outputs": [
    {
     "data": {
      "text/plain": [
       "'{a: 1, b: 2, c: 3}\\n'"
      ]
     },
     "execution_count": 2,
     "metadata": {},
     "output_type": "execute_result"
    }
   ],
   "source": [
    "d = {'a':1, 'b':2, 'c':3}\n",
    "yaml.dump(d)"
   ]
  },
  {
   "cell_type": "markdown",
   "metadata": {},
   "source": [
    "## pyyaml\n",
    "\n",
    "<https://pyyaml.org/wiki/PyYAMLDocumentation>"
   ]
  },
  {
   "cell_type": "code",
   "execution_count": 4,
   "metadata": {},
   "outputs": [
    {
     "name": "stdout",
     "output_type": "stream",
     "text": [
      "EAlpha= [10.54, 9.95, 196.0]\n",
      "EAlphaSigma= [40.0, 50.0, 0.0]\n",
      "TAlpha= [0.261, 1.15, 0.343]\n",
      "!DecayChain\n",
      "BeamEnergy: 242.1\n",
      "EAlpha: [10.54, 9.95, 196.0]\n",
      "EAlphaSigma: [40.0, 50.0, 0.0]\n",
      "ID: '1403'\n",
      "ImplantEnergy: 13.9\n",
      "ImplantTime: 0.0\n",
      "Pixel: 681\n",
      "TAlpha: [0.261, 1.15, 0.343]\n",
      "None\n"
     ]
    }
   ],
   "source": [
    "class DecayChain(yaml.YAMLObject):\n",
    "\n",
    "    yaml_tag = u'!DecayChain'\n",
    "    \n",
    "    def __init__(self, idd=\"\", be=\"\", pi=\"\", ie=\"\", it=\"\", ea=[], eas=[], ta=[]):\n",
    "        self.ID = idd\n",
    "        self.BeamEnergy = be\n",
    "        self.Pixel = pi\n",
    "        self.ImplantEnergy = ie\n",
    "        self.ImplantTime = it\n",
    "        self.EAlpha, self.EAlphaSigma, self.TAlpha = ea, eas, ta\n",
    "        represent_dict_order = lambda self, data:  self.represent_mapping('tag:yaml.org,2002:map', data.items())\n",
    "        yaml.add_representer(OrderedDict, represent_dict_order)\n",
    "        \n",
    "    def __repr__(self):\n",
    "        return \"%s(ID=%r, BeamEnergy=%r, Pixel=%r, ImplantEnergy=%r)\" (self.__class__.__name__, self.ID, self.BeamEnergy, self.Pixel, self.ImplantEnergy)\n",
    "    \n",
    "    def __getstate__(self):\n",
    "        d = OrderedDict()\n",
    "        d['ID'] = self.ID\n",
    "        d['BeamEnergy'] = self.BeamEnergy\n",
    "        d['Pixel'] = self.Pixel\n",
    "        d['ImplantEnergy'] = self.ImplantEnergy\n",
    "        d['ImplantTime'] = self.ImplantTime\n",
    "        d['EAlpha'] = self.EAlpha\n",
    "        d['EAlphaSigma'] = self.EAlphaSigma\n",
    "        d['TAlpha'] = self.TAlpha        \n",
    "        return d\n",
    "        \n",
    "    def ReadUFFile(self, s_ex):\n",
    "        #s_ex = \"UF_C++/E115_chains/chain1403.txt\" #test file\n",
    "        with open(s_ex, \"r\") as f:\n",
    "            lines = f.readlines()\n",
    "            for i, l in enumerate(lines):\n",
    "                if l.strip():\n",
    "                    lines[i] = l.split()[0]\n",
    "                    if lines[i] == '\\n':\n",
    "                        del lines[i]\n",
    "                else:\n",
    "                    if i < 9:\n",
    "                        print(\"Found weird line too early! Exiting.\")\n",
    "                        sys.exit(1)\n",
    "                    lines = lines[0:i] \n",
    "            self.ID = lines[0]\n",
    "            self.BeamEnergy = float(lines[1])\n",
    "            self.Pixel = int(lines[2])\n",
    "            self.ImplantEnergy = float(lines[5])\n",
    "            self.ImplantTime = float(lines[6])\n",
    "            self.EAlpha, self.EAlphaSigma, self.TAlpha = [], [], []\n",
    "            for l in lines[7::3]:\n",
    "                self.EAlpha.append(float(l))\n",
    "            for l in lines[8::3]:\n",
    "                self.EAlphaSigma.append(float(l))\n",
    "            for l in lines[9::3]:\n",
    "                self.TAlpha.append(float(l))\n",
    "            \n",
    "                \n",
    "        #self.EAlpha = np.array(self.EAlpha, dtype=float)\n",
    "        #self.EAlphaSigma = np.array(self.EAlphaSigma, dtype=float)\n",
    "        #self.TAlpha = np.array(self.TAlpha, dtype=float)\n",
    "        \n",
    "c = DecayChain()\n",
    "c.ReadUFFile(\"UF_C++/E115_chains/chain1403.txt\")\n",
    "print(\"EAlpha=\", c.EAlpha)\n",
    "print(\"EAlphaSigma=\", c.EAlphaSigma)\n",
    "print(\"TAlpha=\", c.TAlpha)\n",
    "\n",
    "print(yaml.dump(c, sys.stdout))"
   ]
  },
  {
   "cell_type": "markdown",
   "metadata": {},
   "source": [
    "Dumping file after file transformation"
   ]
  },
  {
   "cell_type": "code",
   "execution_count": 7,
   "metadata": {},
   "outputs": [],
   "source": [
    "s_out = \"data/\"\n",
    "s_file = s_out+c.ID+\"Chain.yml\"\n",
    "f_out = open(s_file, \"w\")\n",
    "yaml.dump(c, f_out)\n",
    "#https://stackoverflow.com/questions/16782112/can-pyyaml-dump-dict-items-in-non-alphabetical-order\n",
    "f_out.close()"
   ]
  },
  {
   "cell_type": "code",
   "execution_count": 13,
   "metadata": {},
   "outputs": [
    {
     "name": "stdout",
     "output_type": "stream",
     "text": [
      "!DecayChain\n",
      "BeamEnergy: 242.1\n",
      "EAlpha: [10.54, 9.95, 196.0]\n",
      "EAlphaSigma: [40.0, 50.0, 0.0]\n",
      "ID: '1403'\n",
      "ImplantEnergy: 13.9\n",
      "ImplantTime: 0.0\n",
      "Pixel: 681\n",
      "TAlpha: [0.261, 1.15, 0.343]\n",
      "\n"
     ]
    }
   ],
   "source": [
    "f_in = open(s_file, \"r\")\n",
    "print(f_in.read())"
   ]
  },
  {
   "cell_type": "markdown",
   "metadata": {},
   "source": [
    "Reading in dumped file into `DecayChain` object."
   ]
  },
  {
   "cell_type": "code",
   "execution_count": 21,
   "metadata": {},
   "outputs": [
    {
     "name": "stdout",
     "output_type": "stream",
     "text": [
      "!DecayChain\n",
      "BeamEnergy: 242.1\n",
      "EAlpha: [10.54, 9.95, 196.0]\n",
      "EAlphaSigma: [40.0, 50.0, 0.0]\n",
      "ID: '1403'\n",
      "ImplantEnergy: 13.9\n",
      "ImplantTime: 0.0\n",
      "Pixel: 681\n",
      "TAlpha: [0.261, 1.15, 0.343]\n",
      "\n"
     ]
    }
   ],
   "source": [
    "f_in = open(s_file, 'r')\n",
    "c2 = yaml.load(f_in)\n",
    "print(yaml.dump(c2))\n",
    "f_in.close()"
   ]
  },
  {
   "cell_type": "markdown",
   "metadata": {},
   "source": [
    "## Generating new files"
   ]
  },
  {
   "cell_type": "code",
   "execution_count": 6,
   "metadata": {},
   "outputs": [
    {
     "name": "stdout",
     "output_type": "stream",
     "text": [
      "['117_chain_T01.txt', 'E117_chain2006.txt', 'chain2102.txt~', 'E117_chain2006.txt~', 'E117_chain2013.txt~', 'E117_chain2010.txt', 'E117_chain2002.txt', 'E117_10_short_full_chains', 'E117_chain2104.txt', 'E117_chain2104.txt~', 'chain2105.txt~', '117_chain_T02.txt', 'E117_chain2012.txt', 'E117_chain2105.txt', 'E117_chain2005.txt~', 'E117_chain2007.txt', 'chain2106.txt~', 'E117_chain2001.txt', '117_chain_L02.txt', 'E117_chain2014.txt', 'E117_chain2016.txt', 'E117_chain2011.txt', 'E117_chain2010.txt~', 'E117_chain2002.txt~', 'chain2101.txt~', 'chain2103.txt~', 'E117_chain2003.txt~', '117_chain_L01.txt', 'E117_chain2003.txt', 'E117_chain2106.txt', 'old_chains', 'E117_chain2102.txt', 'E117_chain2001.txt~', 'E117_chain2013.txt', '#117_chain_L01.txt#', '117_chain_L03.txt', 'E117_chain2005.txt', 'E117_chain2004.txt~', '#117_chain_S05.txt#', 'E117_chain2103.txt', '117_chain_L04.txt', 'E117_chain2008.txt', 'E117_chain2101.txt', 'E117_chain2004.txt', 'E117_chain2015.txt', 'E117_chain2009.txt', 'chain2104.txt~']\n"
     ]
    }
   ],
   "source": [
    "s_in = \"UF_C++/E117_chains/\"\n",
    "import os\n",
    "files = os.listdir(s_in)\n",
    "print(files)"
   ]
  },
  {
   "cell_type": "markdown",
   "metadata": {},
   "source": [
    "# Here UFs format is transformed to the yaml files"
   ]
  },
  {
   "cell_type": "code",
   "execution_count": 8,
   "metadata": {},
   "outputs": [
    {
     "name": "stdout",
     "output_type": "stream",
     "text": [
      "File: E117_chain2006.txt\n",
      "File: E117_chain2006.txt\n",
      "File: E117_chain2013.txt\n",
      "File: E117_chain2010.txt\n",
      "File: E117_chain2002.txt\n",
      "File: E117_chain2104.txt\n",
      "File: E117_chain2104.txt\n",
      "File: E117_chain2012.txt\n",
      "File: E117_chain2105.txt\n",
      "File: E117_chain2005.txt\n",
      "File: E117_chain2007.txt\n",
      "File: E117_chain2001.txt\n",
      "File: E117_chain2014.txt\n",
      "File: E117_chain2016.txt\n",
      "File: E117_chain2011.txt\n",
      "File: E117_chain2010.txt\n",
      "File: E117_chain2002.txt\n",
      "File: E117_chain2003.txt\n",
      "File: E117_chain2003.txt\n",
      "File: E117_chain2106.txt\n",
      "File: E117_chain2102.txt\n",
      "File: E117_chain2001.txt\n",
      "File: E117_chain2013.txt\n",
      "File: E117_chain2005.txt\n",
      "File: E117_chain2004.txt\n",
      "File: E117_chain2103.txt\n",
      "File: E117_chain2008.txt\n",
      "File: E117_chain2101.txt\n",
      "File: E117_chain2004.txt\n",
      "File: E117_chain2015.txt\n",
      "File: E117_chain2009.txt\n"
     ]
    }
   ],
   "source": [
    "import re\n",
    "\n",
    "s_files = \" \".join(files)\n",
    "files = re.findall(string=s_files, pattern=\"E117_chain\\d+.txt\")\n",
    "\n",
    "c = DecayChain()\n",
    "\n",
    "for f in files:\n",
    "    print(\"File:\", f)\n",
    "    try:\n",
    "        c.ReadUFFile(s_in+f)\n",
    "        s_file = s_out+\"Chain\"+c.ID+\".yml\"\n",
    "        f_out = open(s_file, \"w\")        \n",
    "        yaml.dump(c, f_out)\n",
    "        f_out.close()\n",
    "    except IndexError:\n",
    "        print(\"Index error caught, printing file content\")\n",
    "        with open(s_in+f, 'r') as fin:\n",
    "            lines = fin.readlines()\n",
    "            for i, l in enumerate(lines):\n",
    "                print(i, l)\n",
    "                "
   ]
  },
  {
   "cell_type": "code",
   "execution_count": null,
   "metadata": {},
   "outputs": [],
   "source": [
    "%%add_to Chain #https://alexhagen.github.io/jdc/"
   ]
  },
  {
   "cell_type": "code",
   "execution_count": null,
   "metadata": {
    "collapsed": true
   },
   "outputs": [],
   "source": [
    "class Monster(yaml.YAMLObject):\n",
    "    yaml_tag = u'!Monster'\n",
    "    def __init__(self, name, hp, ac, attacks):\n",
    "        self.name = name\n",
    "        self.hp = hp\n",
    "        self.ac = ac\n",
    "        self.attacks = attacks\n",
    "    #def __repr__(self):\n",
    "     #   return \"%s(name=%r, hp=%r, ac=%r, attacks=%r)\" % (\n",
    "      #       self.__class__.__name__, self.name, self.hp, self.ac, self.attacks)\n",
    "    \n"
   ]
  },
  {
   "cell_type": "code",
   "execution_count": null,
   "metadata": {},
   "outputs": [],
   "source": [
    "c = yaml.load(\"\"\"\n",
    "... --- !Monster\n",
    "... name: Cave spider\n",
    "... hp: [2,6]    # 2d6\n",
    "... ac: 16\n",
    "... attacks: [BITE, HURT]\n",
    "... \"\"\")\n",
    "print(c.attacks)"
   ]
  },
  {
   "cell_type": "code",
   "execution_count": null,
   "metadata": {},
   "outputs": [],
   "source": [
    "print(yaml.dump(Monster(\n",
    "...     name='Cave lizard', hp=[3,6], ac=16, attacks=['BITE','HURT'])))"
   ]
  }
 ],
 "metadata": {
  "kernelspec": {
   "display_name": "Python 3",
   "language": "python",
   "name": "python3"
  },
  "language_info": {
   "codemirror_mode": {
    "name": "ipython",
    "version": 3
   },
   "file_extension": ".py",
   "mimetype": "text/x-python",
   "name": "python",
   "nbconvert_exporter": "python",
   "pygments_lexer": "ipython3",
   "version": "3.6.3"
  },
  "toc": {
   "nav_menu": {},
   "number_sections": true,
   "sideBar": true,
   "skip_h1_title": false,
   "toc_cell": false,
   "toc_position": {},
   "toc_section_display": "block",
   "toc_window_display": false
  }
 },
 "nbformat": 4,
 "nbformat_minor": 2
}

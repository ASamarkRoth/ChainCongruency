{
 "cells": [
  {
   "cell_type": "markdown",
   "metadata": {},
   "source": [
    "In this file is the implementation of the new decay chain files with: \n",
    "* How a chain is represented in the code.\n",
    "* How a chain is created and written to yaml-file. \n",
    "* How a chain is printed in markdown. "
   ]
  },
  {
   "cell_type": "markdown",
   "metadata": {},
   "source": [
    "Structure of previous decay chain input file:"
   ]
  },
  {
   "cell_type": "code",
   "execution_count": 34,
   "metadata": {},
   "outputs": [
    {
     "name": "stdout",
     "output_type": "stream",
     "text": [
      "1301    //ID\n",
      "242.1   //Beam energy\n",
      "465     //Pixel or similar\n",
      "0       //Extra\n",
      "0       //Extra\n",
      "13.4    //Implantation energy\n",
      "0       //Implantation time == 0\n",
      "10.29   //First energy\n",
      "10      //Energy uncertainty\n",
      "0.366   //First time\n",
      "9.24    //Second energy\n",
      "10      //Energy uncertainty\n",
      "0.935   //Second time\n",
      "9.77    //Third energy\n",
      "10\n",
      "11.1\n",
      "0.825\n",
      "30\n",
      "0.515\n",
      "9.06\n",
      "10\n",
      "15.3\n",
      "197\n",
      "0       //Fission uncertainty == 0\n",
      "17.4\n",
      "Next\n",
      "1403\n",
      "242.1\n",
      "681\n",
      "0\n",
      "0\n",
      "13.9\n",
      "0\n",
      "10.54\n",
      "40\n",
      "0.261\n",
      "9.95\n",
      "50\n",
      "1.15\n",
      "196\n",
      "0\n",
      "0.343\n"
     ]
    }
   ],
   "source": [
    "!cat UF_C++/E115_chains/chain_example.txt \n",
    "print(\"Next\")\n",
    "!cat UF_C++/E115_chains/chain1403.txt "
   ]
  },
  {
   "cell_type": "code",
   "execution_count": 1,
   "metadata": {
    "collapsed": true
   },
   "outputs": [],
   "source": [
    "import numpy as np\n",
    "import yaml\n",
    "import sys\n",
    "from collections import OrderedDict"
   ]
  },
  {
   "cell_type": "code",
   "execution_count": 6,
   "metadata": {
    "collapsed": true
   },
   "outputs": [],
   "source": [
    "def dump_anydict_as_map(anydict):\n",
    "    yaml.add_representer(anydict, _represent_dictorder)\n",
    "\n",
    "def _represent_dictorder(self, data):\n",
    "    if isinstance(data, DecayChain):\n",
    "        return self.represent_mapping('tag:yaml.org,2002:map', data.__getstate__().items())\n",
    "    else:\n",
    "        return self.represent_mapping('tag:yaml.org,2002:map', data.items())"
   ]
  },
  {
   "cell_type": "code",
   "execution_count": 2,
   "metadata": {},
   "outputs": [
    {
     "data": {
      "text/plain": [
       "'{a: 1, b: 2, c: 3}\\n'"
      ]
     },
     "execution_count": 2,
     "metadata": {},
     "output_type": "execute_result"
    }
   ],
   "source": [
    "d = {'a':1, 'b':2, 'c':3}\n",
    "yaml.dump(d)"
   ]
  },
  {
   "cell_type": "markdown",
   "metadata": {},
   "source": [
    "## pyyaml\n",
    "\n",
    "<https://pyyaml.org/wiki/PyYAMLDocumentation>"
   ]
  },
  {
   "cell_type": "code",
   "execution_count": 71,
   "metadata": {},
   "outputs": [
    {
     "name": "stdout",
     "output_type": "stream",
     "text": [
      "EAlpha= [10.54, 9.95, 196.0]\n",
      "EAlphaSigma= [40.0, 50.0, 0.0]\n",
      "TAlpha= [0.261, 1.15, 0.343]\n",
      "!DecayChain\n",
      "BeamEnergy: 242.1\n",
      "EAlpha: [10.54, 9.95, 196.0]\n",
      "EAlphaSigma: [40.0, 50.0, 0.0]\n",
      "ID: '1403'\n",
      "ImplantEnergy: 13.9\n",
      "ImplantTime: 0.0\n",
      "Pixel: 681\n",
      "TAlpha: [0.261, 1.15, 0.343]\n",
      "None\n"
     ]
    }
   ],
   "source": [
    "class DecayChain(yaml.YAMLObject):\n",
    "\n",
    "    yaml_tag = u'!DecayChain'\n",
    "    \n",
    "    def __init__(self, idd=\"\", be=\"\", pi=\"\", ie=\"\", it=\"\", ea=[], eas=[], ta=[]):\n",
    "        self.ID = idd\n",
    "        self.BeamEnergy = be\n",
    "        self.Pixel = pi\n",
    "        self.ImplantEnergy = ie\n",
    "        self.ImplantTime = it\n",
    "        self.EAlpha, self.EAlphaSigma, self.TAlpha = ea, eas, ta\n",
    "        represent_dict_order = lambda self, data:  self.represent_mapping('tag:yaml.org,2002:map', data.items())\n",
    "        yaml.add_representer(OrderedDict, represent_dict_order)\n",
    "        \n",
    "    def __repr__(self):\n",
    "        return \"%s(ID=%r, BeamEnergy=%r, Pixel=%r, ImplantEnergy=%r)\" (self.__class__.__name__, self.ID, self.BeamEnergy, self.Pixel, self.ImplantEnergy)\n",
    "    \n",
    "    def __getstate__(self):\n",
    "        d = OrderedDict()\n",
    "        d['ID'] = self.ID\n",
    "        d['BeamEnergy'] = self.BeamEnergy\n",
    "        d['Pixel'] = self.Pixel\n",
    "        d['ImplantEnergy'] = self.ImplantEnergy\n",
    "        d['ImplantTime'] = self.ImplantTime\n",
    "        d['EAlpha'] = self.EAlpha\n",
    "        d['EAlphaSigma'] = self.EAlphaSigma\n",
    "        d['TAlpha'] = self.TAlpha        \n",
    "        return d\n",
    "        \n",
    "    def ReadUFFile(self, s_ex):\n",
    "        #s_ex = \"UF_C++/E115_chains/chain1403.txt\" #test file\n",
    "        with open(s_ex, \"r\") as f:\n",
    "            lines = f.readlines()\n",
    "            for i, l in enumerate(lines):\n",
    "                if l.strip():\n",
    "                    lines[i] = l.split()[0]\n",
    "                    if lines[i] == '\\n':\n",
    "                        del lines[i]\n",
    "                else:\n",
    "                    if i < 9:\n",
    "                        print(\"Found weird line too early! Exiting.\")\n",
    "                        sys.exit(1)\n",
    "                    lines = lines[0:i] \n",
    "            self.ID = lines[0]\n",
    "            self.BeamEnergy = float(lines[1])\n",
    "            self.Pixel = int(lines[2])\n",
    "            self.ImplantEnergy = float(lines[5])\n",
    "            self.ImplantTime = float(lines[6])\n",
    "            self.EAlpha, self.EAlphaSigma, self.TAlpha = [], [], []\n",
    "            for l in lines[7::3]:\n",
    "                self.EAlpha.append(float(l))\n",
    "            for l in lines[8::3]:\n",
    "                self.EAlphaSigma.append(float(l))\n",
    "            for l in lines[9::3]:\n",
    "                self.TAlpha.append(float(l))\n",
    "            \n",
    "                \n",
    "        #self.EAlpha = np.array(self.EAlpha, dtype=float)\n",
    "        #self.EAlphaSigma = np.array(self.EAlphaSigma, dtype=float)\n",
    "        #self.TAlpha = np.array(self.TAlpha, dtype=float)\n",
    "        \n",
    "c = DecayChain()\n",
    "c.ReadUFFile(\"UF_C++/E115_chains/chain1403.txt\")\n",
    "print(\"EAlpha=\", c.EAlpha)\n",
    "print(\"EAlphaSigma=\", c.EAlphaSigma)\n",
    "print(\"TAlpha=\", c.TAlpha)\n",
    "\n",
    "print(yaml.dump(c, sys.stdout))"
   ]
  },
  {
   "cell_type": "markdown",
   "metadata": {},
   "source": [
    "Dumping file after file transformation"
   ]
  },
  {
   "cell_type": "code",
   "execution_count": 73,
   "metadata": {},
   "outputs": [],
   "source": [
    "s_out = \"E115_Chains/\"\n",
    "s_file = s_out+c.ID+\"Chain.yml\"\n",
    "f_out = open(s_file, \"w\")\n",
    "yaml.dump(c, f_out)\n",
    "#https://stackoverflow.com/questions/16782112/can-pyyaml-dump-dict-items-in-non-alphabetical-order\n",
    "f_out.close()"
   ]
  },
  {
   "cell_type": "code",
   "execution_count": 13,
   "metadata": {},
   "outputs": [
    {
     "name": "stdout",
     "output_type": "stream",
     "text": [
      "!DecayChain\n",
      "BeamEnergy: 242.1\n",
      "EAlpha: [10.54, 9.95, 196.0]\n",
      "EAlphaSigma: [40.0, 50.0, 0.0]\n",
      "ID: '1403'\n",
      "ImplantEnergy: 13.9\n",
      "ImplantTime: 0.0\n",
      "Pixel: 681\n",
      "TAlpha: [0.261, 1.15, 0.343]\n",
      "\n"
     ]
    }
   ],
   "source": [
    "f_in = open(s_file, \"r\")\n",
    "print(f_in.read())"
   ]
  },
  {
   "cell_type": "markdown",
   "metadata": {},
   "source": [
    "Reading in dumped file into `DecayChain` object."
   ]
  },
  {
   "cell_type": "code",
   "execution_count": 21,
   "metadata": {},
   "outputs": [
    {
     "name": "stdout",
     "output_type": "stream",
     "text": [
      "!DecayChain\n",
      "BeamEnergy: 242.1\n",
      "EAlpha: [10.54, 9.95, 196.0]\n",
      "EAlphaSigma: [40.0, 50.0, 0.0]\n",
      "ID: '1403'\n",
      "ImplantEnergy: 13.9\n",
      "ImplantTime: 0.0\n",
      "Pixel: 681\n",
      "TAlpha: [0.261, 1.15, 0.343]\n",
      "\n"
     ]
    }
   ],
   "source": [
    "f_in = open(s_file, 'r')\n",
    "c2 = yaml.load(f_in)\n",
    "print(yaml.dump(c2))\n",
    "f_in.close()"
   ]
  },
  {
   "cell_type": "markdown",
   "metadata": {},
   "source": [
    "## Generating new files"
   ]
  },
  {
   "cell_type": "code",
   "execution_count": 26,
   "metadata": {},
   "outputs": [
    {
     "name": "stdout",
     "output_type": "stream",
     "text": [
      "['chain2003.txt', 'chain1103.txt', 'chain1606.txt', 'chain1005.txt', 'chain1025.txt', 'chain1017.txt', 'chain1402.txt', 'chain2008.txt', 'chain1313.txt', 'chain1625.txt', 'chain1636.txt', 'chain1638.txt', 'chain2009.txt', 'chain1304.txt', 'chain1602.txt', 'chain1628.txt', 'chain1633.txt', 'chain1614.txt', 'chain1634.txt', 'original_chain1318.txt', 'chain1303.txt', 'chain2005.txt', 'chain1018.txt', 'chain1006.txt', 'chain1310.txt', 'chain1407.txt', 'chain1020.txt', 'Numbering_of_chains.txt', 'chain1617.txt', 'chain1322.txt', 'chain1003.txt', 'chain1643.txt', 'chain1201.txt', 'chain1615.txt', 'chain1632.txt', 'chain2013.txt', 'chain1609.txt', 'chain1314.txt', 'chain1608.txt', 'Re-order_chains.cxx~', 'chain1616.txt', 'chain1305.txt', 'chain1641.txt', 'chain2011.txt', 'chain1316.txt', 'chain1021.txt', 'chain1023.txt', 'chain1613.txt', 'chain1321.txt', 'chain1319.txt', 'chain1405.txt', 'chain1101.txt', 'chain1008.txt', 'chain1016.txt', 'chain1010.txt', 'chain2006.txt', 'chain1703.txt', 'chain2015.txt', 'chain1401.txt', 'chain1404.txt', 'chain1002.txt', 'Re-re-order_chains.cxx', 'README.txt', 'chain1640.txt', 'chain1009.txt', 'chain1306.txt', 'chain2012.txt', 'chain1015.txt', 'chain1024.txt', 'chain1004.txt', 'chain1307.txt', 'chain1642.txt', 'chain1702.txt', 'chain1624.txt', 'chain1629.txt', 'chain2016.txt', 'chain1621.txt', 'chain1029.txt', 'chain1607.txt', 'chain1012.txt', 'chain2002.txt', 'chain1403.txt', 'chain1026.txt', 'chain1637.txt', 'chain1302.txt', 'chain1604.txt', 'chain1618.txt', 'chain1635.txt', 'chain1014.txt', 'chain1315.txt', 'chain1308.txt', 'chain1022.txt', 'chain1317.txt', 'chain1019.txt', 'chain2004.txt', 'chain1301.txt', 'chain1619.txt', 'chain1011.txt', 'chain1001.txt', 'chain1007.txt', 'Re-order_chains.cxx', 'chain1630.txt', 'chain1612.txt', 'chain2001.txt', 'chain1318.txt', 'chain_example.txt', 'chain1622.txt', 'chain1027.txt', 'chain1102.txt', 'change_Dubna_to_sigma.cxx~', 'chain2007.txt', 'chain1626.txt', 'chain1312.txt', 'chain1631.txt', 'chain1610.txt', 'chain1311.txt', 'chain1030.txt', 'chain1202.txt', 'chain1603.txt', 'chain2014.txt', 'chain1701.txt', 'chain1013.txt', 'chain1028.txt', 'chain1611.txt', 'chain1623.txt', 'chain1605.txt', 'chain1309.txt', 'chain1104.txt', 'chain1601.txt', 'chain1639.txt', 'chain1501.txt', 'chain1406.txt', 'chain1031.txt', 'chain1627.txt', 'chain2010.txt', 'chain1320.txt', 'Re-re-order_chains.cxx~', 'chain1620.txt']\n"
     ]
    }
   ],
   "source": [
    "s_in = \"UF_C++/E115_chains/\"\n",
    "import os\n",
    "files = os.listdir(s_in)\n",
    "print(files)"
   ]
  },
  {
   "cell_type": "markdown",
   "metadata": {},
   "source": [
    "# Here UFs format is transformed to the yaml files"
   ]
  },
  {
   "cell_type": "code",
   "execution_count": 78,
   "metadata": {},
   "outputs": [
    {
     "name": "stdout",
     "output_type": "stream",
     "text": [
      "File: chain2003.txt\n",
      "File: chain1103.txt\n",
      "File: chain1606.txt\n",
      "File: chain1005.txt\n",
      "File: chain1025.txt\n",
      "File: chain1017.txt\n",
      "File: chain1402.txt\n",
      "File: chain2008.txt\n",
      "File: chain1313.txt\n",
      "File: chain1625.txt\n",
      "File: chain1636.txt\n",
      "File: chain1638.txt\n",
      "File: chain2009.txt\n",
      "File: chain1304.txt\n",
      "File: chain1602.txt\n",
      "File: chain1628.txt\n",
      "File: chain1633.txt\n",
      "File: chain1614.txt\n",
      "File: chain1634.txt\n",
      "File: chain1318.txt\n",
      "File: chain1303.txt\n",
      "File: chain2005.txt\n",
      "File: chain1018.txt\n",
      "File: chain1006.txt\n",
      "File: chain1310.txt\n",
      "File: chain1407.txt\n",
      "File: chain1020.txt\n",
      "File: chain1617.txt\n",
      "File: chain1322.txt\n",
      "File: chain1003.txt\n",
      "File: chain1643.txt\n",
      "File: chain1201.txt\n",
      "File: chain1615.txt\n",
      "File: chain1632.txt\n",
      "File: chain2013.txt\n",
      "File: chain1609.txt\n",
      "File: chain1314.txt\n",
      "File: chain1608.txt\n",
      "File: chain1616.txt\n",
      "File: chain1305.txt\n",
      "File: chain1641.txt\n",
      "File: chain2011.txt\n",
      "File: chain1316.txt\n",
      "File: chain1021.txt\n",
      "File: chain1023.txt\n",
      "File: chain1613.txt\n",
      "File: chain1321.txt\n",
      "File: chain1319.txt\n",
      "File: chain1405.txt\n",
      "File: chain1101.txt\n",
      "File: chain1008.txt\n",
      "File: chain1016.txt\n",
      "File: chain1010.txt\n",
      "File: chain2006.txt\n",
      "File: chain1703.txt\n",
      "File: chain2015.txt\n",
      "File: chain1401.txt\n",
      "File: chain1404.txt\n",
      "File: chain1002.txt\n",
      "File: chain1640.txt\n",
      "File: chain1009.txt\n",
      "File: chain1306.txt\n",
      "File: chain2012.txt\n",
      "File: chain1015.txt\n",
      "File: chain1024.txt\n",
      "File: chain1004.txt\n",
      "File: chain1307.txt\n",
      "File: chain1642.txt\n",
      "File: chain1702.txt\n",
      "File: chain1624.txt\n",
      "File: chain1629.txt\n",
      "File: chain2016.txt\n",
      "File: chain1621.txt\n",
      "File: chain1029.txt\n",
      "File: chain1607.txt\n",
      "File: chain1012.txt\n",
      "File: chain2002.txt\n",
      "File: chain1403.txt\n",
      "File: chain1026.txt\n",
      "File: chain1637.txt\n",
      "File: chain1302.txt\n",
      "File: chain1604.txt\n",
      "File: chain1618.txt\n",
      "File: chain1635.txt\n",
      "File: chain1014.txt\n",
      "File: chain1315.txt\n",
      "File: chain1308.txt\n",
      "File: chain1022.txt\n",
      "File: chain1317.txt\n",
      "File: chain1019.txt\n",
      "File: chain2004.txt\n",
      "File: chain1301.txt\n",
      "File: chain1619.txt\n",
      "File: chain1011.txt\n",
      "File: chain1001.txt\n",
      "File: chain1007.txt\n",
      "File: chain1630.txt\n",
      "File: chain1612.txt\n",
      "File: chain2001.txt\n",
      "File: chain1318.txt\n",
      "File: chain1622.txt\n",
      "File: chain1027.txt\n",
      "File: chain1102.txt\n",
      "File: chain2007.txt\n",
      "File: chain1626.txt\n",
      "File: chain1312.txt\n",
      "File: chain1631.txt\n",
      "File: chain1610.txt\n",
      "File: chain1311.txt\n",
      "File: chain1030.txt\n",
      "File: chain1202.txt\n",
      "File: chain1603.txt\n",
      "File: chain2014.txt\n",
      "File: chain1701.txt\n",
      "File: chain1013.txt\n",
      "File: chain1028.txt\n",
      "File: chain1611.txt\n",
      "File: chain1623.txt\n",
      "File: chain1605.txt\n",
      "File: chain1309.txt\n",
      "File: chain1104.txt\n",
      "File: chain1601.txt\n",
      "File: chain1639.txt\n",
      "File: chain1501.txt\n",
      "File: chain1406.txt\n",
      "File: chain1031.txt\n",
      "File: chain1627.txt\n",
      "File: chain2010.txt\n",
      "File: chain1320.txt\n",
      "File: chain1620.txt\n"
     ]
    }
   ],
   "source": [
    "import re\n",
    "\n",
    "s_files = \" \".join(files)\n",
    "files = re.findall(string=s_files, pattern=\"chain\\d+.txt\")\n",
    "\n",
    "c = DecayChain()\n",
    "\n",
    "for f in files:\n",
    "    print(\"File:\", f)\n",
    "    try:\n",
    "        c.ReadUFFile(s_in+f)\n",
    "        s_file = s_out+\"Chain\"+c.ID+\".yml\"\n",
    "        f_out = open(s_file, \"w\")        \n",
    "        yaml.dump(c, f_out)\n",
    "        f_out.close()\n",
    "    except IndexError:\n",
    "        print(\"Index error caught, printing file content\")\n",
    "        with open(s_in+f, 'r') as fin:\n",
    "            lines = fin.readlines()\n",
    "            for i, l in enumerate(lines):\n",
    "                print(i, l)\n",
    "                "
   ]
  },
  {
   "cell_type": "code",
   "execution_count": null,
   "metadata": {},
   "outputs": [],
   "source": [
    "%%add_to Chain #https://alexhagen.github.io/jdc/"
   ]
  },
  {
   "cell_type": "code",
   "execution_count": null,
   "metadata": {
    "collapsed": true
   },
   "outputs": [],
   "source": [
    "class Monster(yaml.YAMLObject):\n",
    "    yaml_tag = u'!Monster'\n",
    "    def __init__(self, name, hp, ac, attacks):\n",
    "        self.name = name\n",
    "        self.hp = hp\n",
    "        self.ac = ac\n",
    "        self.attacks = attacks\n",
    "    #def __repr__(self):\n",
    "     #   return \"%s(name=%r, hp=%r, ac=%r, attacks=%r)\" % (\n",
    "      #       self.__class__.__name__, self.name, self.hp, self.ac, self.attacks)\n",
    "    \n"
   ]
  },
  {
   "cell_type": "code",
   "execution_count": null,
   "metadata": {},
   "outputs": [],
   "source": [
    "c = yaml.load(\"\"\"\n",
    "... --- !Monster\n",
    "... name: Cave spider\n",
    "... hp: [2,6]    # 2d6\n",
    "... ac: 16\n",
    "... attacks: [BITE, HURT]\n",
    "... \"\"\")\n",
    "print(c.attacks)"
   ]
  },
  {
   "cell_type": "code",
   "execution_count": null,
   "metadata": {},
   "outputs": [],
   "source": [
    "print(yaml.dump(Monster(\n",
    "...     name='Cave lizard', hp=[3,6], ac=16, attacks=['BITE','HURT'])))"
   ]
  }
 ],
 "metadata": {
  "kernelspec": {
   "display_name": "Python 3",
   "language": "python",
   "name": "python3"
  },
  "language_info": {
   "codemirror_mode": {
    "name": "ipython",
    "version": 3
   },
   "file_extension": ".py",
   "mimetype": "text/x-python",
   "name": "python",
   "nbconvert_exporter": "python",
   "pygments_lexer": "ipython3",
   "version": "3.6.3"
  }
 },
 "nbformat": 4,
 "nbformat_minor": 2
}

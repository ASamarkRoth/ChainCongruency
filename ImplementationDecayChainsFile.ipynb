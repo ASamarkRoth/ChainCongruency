{
 "cells": [
  {
   "cell_type": "markdown",
   "metadata": {},
   "source": [
    "In this file is the implementation of the new decay chain files with: \n",
    "* How a chain is represented in the code.\n",
    "* How a chain is created and written to yaml-file. \n",
    "* How a chain is printed in markdown. "
   ]
  },
  {
   "cell_type": "markdown",
   "metadata": {},
   "source": [
    "Structure of previous decay chain input file:"
   ]
  },
  {
   "cell_type": "code",
   "execution_count": 18,
   "metadata": {},
   "outputs": [
    {
     "name": "stdout",
     "output_type": "stream",
     "text": [
      "1301    //ID\n",
      "242.1   //Beam energy\n",
      "465     //Pixel or similar\n",
      "0       //Extra\n",
      "0       //Extra\n",
      "13.4    //Implantation energy\n",
      "0       //Implantation time == 0\n",
      "10.29   //First energy\n",
      "10      //Energy uncertainty\n",
      "0.366   //First time\n",
      "9.24    //Second energy\n",
      "10      //Energy uncertainty\n",
      "0.935   //Second time\n",
      "9.77    //Third energy\n",
      "10\n",
      "11.1\n",
      "0.825\n",
      "30\n",
      "0.515\n",
      "9.06\n",
      "10\n",
      "15.3\n",
      "197\n",
      "0       //Fission uncertainty == 0\n",
      "17.4\n",
      "Next\n",
      "1403\n",
      "242.1\n",
      "681\n",
      "0\n",
      "0\n",
      "13.9\n",
      "0\n",
      "10.54\n",
      "40\n",
      "0.261\n",
      "9.95\n",
      "50\n",
      "1.15\n",
      "196\n",
      "0\n",
      "0.343\n"
     ]
    }
   ],
   "source": [
    "!cat UF_C++/E115_chains/chain_example.txt \n",
    "print(\"Next\")\n",
    "!cat UF_C++/E115_chains/chain1403.txt "
   ]
  },
  {
   "cell_type": "code",
   "execution_count": null,
   "metadata": {},
   "outputs": [],
   "source": [
    "import numpy as np\n",
    "import yaml\n",
    "import sys\n",
    "\n",
    "class DecayChain(yaml.YAMLObject):\n",
    "\n",
    "    yaml_tag = u'!DecayChain'\n",
    "    def __init__(self, idd=\"\", be=\"\", pi=\"\", ie=\"\", it=\"\", ea=[], eas=[], ta=[]):\n",
    "        self.ID = idd\n",
    "        self.BeamEnergy = be\n",
    "        self.Pixel = pi\n",
    "        self.ImplantEnergy = ie\n",
    "        self.ImplantTime = it\n",
    "        self.EAlpha, self.EAlphaSigma, self.TAlpha = ea, eas, ta\n",
    "    def __repr__(self):\n",
    "        return \"%s(ID=%r, BeamEnergy=%r, Pixel=%r, ImplantEnergy=%r)\" (self.__class__.__name__, self.ID, self.BeamEnergy, self.Pixel, self.ImplantEnergy)\n",
    "            \n",
    "    def ReadUFFile(self):\n",
    "        s_ex = \"UF_C++/E115_chains/chain1403.txt\" #test file\n",
    "        with open(s_ex, \"r\") as f:\n",
    "            lines = f.readlines()\n",
    "            for i, l in enumerate(lines):\n",
    "                lines[i] = l.split()[0]\n",
    "                #print(l)\n",
    "            self.ID = lines[0]\n",
    "            self.BeamEnergy = float(lines[1])\n",
    "            self.Pixel = int(lines[2])\n",
    "            self.ImplantEnergy = float(lines[5])\n",
    "            self.ImplantTime = float(lines[6])\n",
    "            self.EAlpha, self.EAlphaSigma, self.TAlpha = [], [], []\n",
    "            for l in lines[7::3]:\n",
    "                self.EAlpha.append(float(l))\n",
    "            for l in lines[8::3]:\n",
    "                self.EAlphaSigma.append(float(l))\n",
    "            for l in lines[9::3]:\n",
    "                self.TAlpha.append(float(l))\n",
    "        #self.EAlpha = np.array(self.EAlpha, dtype=float)\n",
    "        #self.EAlphaSigma = np.array(self.EAlphaSigma, dtype=float)\n",
    "        #self.TAlpha = np.array(self.TAlpha, dtype=float)\n",
    "        \n",
    "c = DecayChain()\n",
    "c.ReadUFFile()\n",
    "print(\"EAlpha=\", c.EAlpha)\n",
    "print(\"EAlphaSigma=\", c.EAlphaSigma)\n",
    "print(\"TAlpha=\", c.TAlpha)\n",
    "\n",
    "print(yaml.dump(c, sys.stdout))"
   ]
  },
  {
   "cell_type": "code",
   "execution_count": null,
   "metadata": {},
   "outputs": [],
   "source": [
    "s_out = \"E115_Chains/\"\n",
    "s_file = s_out+c.ID+\".chain\"\n",
    "f_out = open(s_out+c.ID+\".chain\", \"w\")\n",
    "yaml.dump(c, f_out)\n",
    "#https://stackoverflow.com/questions/16782112/can-pyyaml-dump-dict-items-in-non-alphabetical-order\n",
    "f_out.close()"
   ]
  },
  {
   "cell_type": "code",
   "execution_count": null,
   "metadata": {},
   "outputs": [],
   "source": [
    "f_in = open(s_file, \"r\")\n",
    "print(f_in.read())"
   ]
  },
  {
   "cell_type": "code",
   "execution_count": 40,
   "metadata": {},
   "outputs": [
    {
     "name": "stderr",
     "output_type": "stream",
     "text": [
      "UsageError: Cell magic `%%add_to` not found.\n"
     ]
    }
   ],
   "source": [
    "%%add_to Chain #https://alexhagen.github.io/jdc/"
   ]
  },
  {
   "cell_type": "code",
   "execution_count": 57,
   "metadata": {},
   "outputs": [],
   "source": [
    "class Monster(yaml.YAMLObject):\n",
    "    yaml_tag = u'!Monster'\n",
    "    def __init__(self, name, hp, ac, attacks):\n",
    "        self.name = name\n",
    "        self.hp = hp\n",
    "        self.ac = ac\n",
    "        self.attacks = attacks\n",
    "    #def __repr__(self):\n",
    "     #   return \"%s(name=%r, hp=%r, ac=%r, attacks=%r)\" % (\n",
    "      #       self.__class__.__name__, self.name, self.hp, self.ac, self.attacks)\n",
    "    \n"
   ]
  },
  {
   "cell_type": "code",
   "execution_count": 61,
   "metadata": {},
   "outputs": [
    {
     "name": "stdout",
     "output_type": "stream",
     "text": [
      "['BITE', 'HURT']\n"
     ]
    }
   ],
   "source": [
    "c = yaml.load(\"\"\"\n",
    "... --- !Monster\n",
    "... name: Cave spider\n",
    "... hp: [2,6]    # 2d6\n",
    "... ac: 16\n",
    "... attacks: [BITE, HURT]\n",
    "... \"\"\")\n",
    "print(c.attacks)"
   ]
  },
  {
   "cell_type": "code",
   "execution_count": 59,
   "metadata": {},
   "outputs": [
    {
     "name": "stdout",
     "output_type": "stream",
     "text": [
      "!Monster\n",
      "ac: 16\n",
      "attacks: [BITE, HURT]\n",
      "hp: [3, 6]\n",
      "name: Cave lizard\n",
      "\n"
     ]
    }
   ],
   "source": [
    "print(yaml.dump(Monster(\n",
    "...     name='Cave lizard', hp=[3,6], ac=16, attacks=['BITE','HURT'])))"
   ]
  }
 ],
 "metadata": {
  "kernelspec": {
   "display_name": "Python 3",
   "language": "python",
   "name": "python3"
  },
  "language_info": {
   "codemirror_mode": {
    "name": "ipython",
    "version": 3
   },
   "file_extension": ".py",
   "mimetype": "text/x-python",
   "name": "python",
   "nbconvert_exporter": "python",
   "pygments_lexer": "ipython3",
   "version": "3.5.2"
  }
 },
 "nbformat": 4,
 "nbformat_minor": 2
}

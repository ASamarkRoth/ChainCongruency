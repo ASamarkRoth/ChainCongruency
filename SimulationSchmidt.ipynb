{
 "cells": [
  {
   "cell_type": "markdown",
   "metadata": {},
   "source": [
    "# Simulation of lifetimes for Schmidt distributions"
   ]
  },
  {
   "cell_type": "code",
   "execution_count": 3,
   "metadata": {
    "collapsed": true
   },
   "outputs": [],
   "source": [
    "import numpy as np\n",
    "import os, sys, yaml, re\n",
    "from IPython.display import display, Markdown, Latex #Can write latex too!!!!"
   ]
  },
  {
   "cell_type": "code",
   "execution_count": 4,
   "metadata": {
    "collapsed": true
   },
   "outputs": [],
   "source": [
    "class DecayChain(yaml.YAMLObject):\n",
    "    \n",
    "    yaml_tag = u'!DecayChain'\n",
    "    \n",
    "    def __init__(self, idd=\"\", be=\"\", pi=\"\", ie=\"\", it=\"\", ea=[], eas=[], ta=[]):\n",
    "        self.ID = idd\n",
    "        self.BeamEnergy = be\n",
    "        self.Pixel = pi\n",
    "        self.ImplantEnergy = ie\n",
    "        self.ImplantTime = it\n",
    "        self.EAlpha, self.EAlphaSigma, self.TAlpha = ea, eas, ta\n",
    "\n",
    "class SetDecayChains:\n",
    "    \n",
    "    def __init__(self, path='', ids=[]):\n",
    "        s_files = \" \".join(os.listdir(path))\n",
    "        files = []\n",
    "        for s in ids:\n",
    "            files += (sorted(re.findall(string=s_files, pattern=\"Chain\"+s+\"\\d+.yml\")))\n",
    "        print(\"Reading the following files:\", files)\n",
    "        self.Chains = []\n",
    "        for f in files:\n",
    "            f_in = open(path+f, 'r')\n",
    "            self.Chains.append(yaml.load(f_in))\n",
    "            f_in.close()"
   ]
  },
  {
   "cell_type": "code",
   "execution_count": 108,
   "metadata": {},
   "outputs": [
    {
     "name": "stdout",
     "output_type": "stream",
     "text": [
      "Reading the following files: ['Chain1401.yml', 'Chain1402.yml', 'Chain1403.yml', 'Chain1404.yml', 'Chain1405.yml', 'Chain1406.yml', 'Chain1407.yml', 'Chain1101.yml', 'Chain1102.yml', 'Chain1103.yml', 'Chain1104.yml', 'Chain1701.yml', 'Chain1702.yml', 'Chain1703.yml']\n",
      "Max steps= 3\n"
     ]
    },
    {
     "data": {
      "text/plain": [
       "array([[  2.27000000e-01,   3.78000000e-01,              nan],\n",
       "       [  6.45000000e-02,   3.66000000e-01,              nan],\n",
       "       [  2.61000000e-01,   1.15000000e+00,   3.43000000e-01],\n",
       "       [  1.46000000e+00,   2.62000000e-02,   4.32000000e-01],\n",
       "       [  3.45000000e-01,   3.69000000e-01,   1.44000000e+01],\n",
       "       [  2.10000000e-01,   1.05000000e+00,   8.27000000e+00],\n",
       "       [  8.15000000e-01,   2.33000000e+00,   2.89000000e+00],\n",
       "       [  2.56200000e-01,   1.40270000e+00,   1.97750000e+00],\n",
       "       [  6.61000000e-02,   1.55000000e+00,   2.36380000e+00],\n",
       "       [  2.35070000e+00,   2.25822000e+01,   6.01855000e+01],\n",
       "       [  5.36000000e-02,   4.67100000e-01,   9.08000000e-02],\n",
       "       [  2.14000000e-01,   1.54000000e+00,   7.57000000e+00],\n",
       "       [  5.91000000e-02,   8.24000000e-01,              nan],\n",
       "       [  4.55000000e-02,   1.42000000e-02,              nan]])"
      ]
     },
     "execution_count": 108,
     "metadata": {},
     "output_type": "execute_result"
    }
   ],
   "source": [
    "s_path = \"E115_Chains/\"\n",
    "s_id = [\"14\", \"11\", \"17\"]\n",
    "\n",
    "setDC = SetDecayChains(s_path, s_id)\n",
    "max_steps = 0\n",
    "for chain in setDC.Chains:\n",
    "    if len(chain.TAlpha) > max_steps:\n",
    "        max_steps = len(chain.TAlpha)\n",
    "print(\"Max steps=\", max_steps)\n",
    "times = np.zeros((len(setDC.Chains), max_steps))\n",
    "for row, chain in enumerate(setDC.Chains):\n",
    "    steps = len(chain.TAlpha)\n",
    "    for i in range(max_steps):\n",
    "        if i < steps:\n",
    "            times[row][i] = chain.TAlpha[i]\n",
    "        else:\n",
    "            times[row][i] = np.nan       \n",
    "times"
   ]
  },
  {
   "cell_type": "markdown",
   "metadata": {},
   "source": [
    "## Sorting out chains of different lengths into arrays"
   ]
  },
  {
   "cell_type": "markdown",
   "metadata": {},
   "source": [
    "Need to simulate lifetime values for the number of chains we have in the set for enough number of times. To simplify, maybe it would be nice to reshuffle the set into two subsets depending on the length."
   ]
  },
  {
   "cell_type": "code",
   "execution_count": 6,
   "metadata": {},
   "outputs": [
    {
     "data": {
      "text/plain": [
       "array([2, 2, 3, 3, 3, 3, 3, 3, 3, 3, 3, 3, 2, 2])"
      ]
     },
     "execution_count": 6,
     "metadata": {},
     "output_type": "execute_result"
    }
   ],
   "source": [
    "N_j = np.count_nonzero(~np.isnan(times), axis=1)\n",
    "N_j"
   ]
  },
  {
   "cell_type": "code",
   "execution_count": 9,
   "metadata": {},
   "outputs": [
    {
     "data": {
      "text/plain": [
       "array([ 2,  3,  4,  5,  6,  7,  8,  9, 10, 11])"
      ]
     },
     "execution_count": 9,
     "metadata": {},
     "output_type": "execute_result"
    }
   ],
   "source": [
    "ind1 = np.argwhere(N_j == max_steps)[:,0]\n",
    "ind1"
   ]
  },
  {
   "cell_type": "code",
   "execution_count": 11,
   "metadata": {},
   "outputs": [
    {
     "data": {
      "text/plain": [
       "array([ 0,  1, 12, 13])"
      ]
     },
     "execution_count": 11,
     "metadata": {},
     "output_type": "execute_result"
    }
   ],
   "source": [
    "ind2 = np.argwhere(N_j == max_steps-1)[:,0]\n",
    "ind2"
   ]
  },
  {
   "cell_type": "code",
   "execution_count": 12,
   "metadata": {},
   "outputs": [
    {
     "data": {
      "text/plain": [
       "array([[  2.61000000e-01,   1.15000000e+00,   3.43000000e-01],\n",
       "       [  1.46000000e+00,   2.62000000e-02,   4.32000000e-01],\n",
       "       [  3.45000000e-01,   3.69000000e-01,   1.44000000e+01],\n",
       "       [  2.10000000e-01,   1.05000000e+00,   8.27000000e+00],\n",
       "       [  8.15000000e-01,   2.33000000e+00,   2.89000000e+00],\n",
       "       [  2.56200000e-01,   1.40270000e+00,   1.97750000e+00],\n",
       "       [  6.61000000e-02,   1.55000000e+00,   2.36380000e+00],\n",
       "       [  2.35070000e+00,   2.25822000e+01,   6.01855000e+01],\n",
       "       [  5.36000000e-02,   4.67100000e-01,   9.08000000e-02],\n",
       "       [  2.14000000e-01,   1.54000000e+00,   7.57000000e+00]])"
      ]
     },
     "execution_count": 12,
     "metadata": {},
     "output_type": "execute_result"
    }
   ],
   "source": [
    "times1 = times[ind1]\n",
    "times1"
   ]
  },
  {
   "cell_type": "code",
   "execution_count": 15,
   "metadata": {},
   "outputs": [
    {
     "data": {
      "text/plain": [
       "array([[ 0.227 ,  0.378 ],\n",
       "       [ 0.0645,  0.366 ],\n",
       "       [ 0.0591,  0.824 ],\n",
       "       [ 0.0455,  0.0142]])"
      ]
     },
     "execution_count": 15,
     "metadata": {},
     "output_type": "execute_result"
    }
   ],
   "source": [
    "times2 = times[ind2][:, :-1]\n",
    "times2"
   ]
  },
  {
   "cell_type": "markdown",
   "metadata": {},
   "source": [
    "Well, these additional steps may only confuse the reader!!! For the geometrical mean with nans I can implement something in cython. "
   ]
  },
  {
   "cell_type": "markdown",
   "metadata": {},
   "source": [
    "## Sample from exponential distribution"
   ]
  },
  {
   "cell_type": "code",
   "execution_count": 62,
   "metadata": {},
   "outputs": [
    {
     "data": {
      "text/plain": [
       "(10, 14, 3)"
      ]
     },
     "execution_count": 62,
     "metadata": {},
     "output_type": "execute_result"
    }
   ],
   "source": [
    "nbr_sets = 10\n",
    "shape = (nbr_sets, *np.shape(times))\n",
    "sim = np.random.exponential(scale=1, size=shape)\n",
    "np.shape(sim)"
   ]
  },
  {
   "cell_type": "markdown",
   "metadata": {},
   "source": [
    "### Masking to insert the nans"
   ]
  },
  {
   "cell_type": "code",
   "execution_count": 59,
   "metadata": {},
   "outputs": [
    {
     "data": {
      "text/plain": [
       "masked_array(data =\n",
       " [[False False  True]\n",
       " [False False  True]\n",
       " [False False False]\n",
       " [False False False]\n",
       " [False False False]\n",
       " [False False False]\n",
       " [False False False]\n",
       " [False False False]\n",
       " [False False False]\n",
       " [False False False]\n",
       " [False False False]\n",
       " [False False False]\n",
       " [False False  True]\n",
       " [False False  True]],\n",
       "             mask =\n",
       " False,\n",
       "       fill_value = True)"
      ]
     },
     "execution_count": 59,
     "metadata": {},
     "output_type": "execute_result"
    }
   ],
   "source": [
    "m2d = np.ma.masked_array(np.isnan(times))\n",
    "m2d"
   ]
  },
  {
   "cell_type": "code",
   "execution_count": 60,
   "metadata": {},
   "outputs": [
    {
     "data": {
      "text/plain": [
       "(14, 3, 10)"
      ]
     },
     "execution_count": 60,
     "metadata": {},
     "output_type": "execute_result"
    }
   ],
   "source": [
    "mask3d = np.ma.dstack([m2d]*nbr_sets)\n",
    "np.shape(mask3d)"
   ]
  },
  {
   "cell_type": "code",
   "execution_count": 61,
   "metadata": {},
   "outputs": [
    {
     "data": {
      "text/plain": [
       "array([ 1.24393462,  1.68701105,  0.20103008,  0.06405036,  4.74742469,\n",
       "        0.00826259,  0.30759262,  2.29475902,  0.88058921,  0.6394237 ,\n",
       "        0.47592285,  1.2816612 ,  0.11473964,  1.12989187,  0.33858966,\n",
       "        0.03917835,  0.37755162,  0.12782266,  1.98817576,  1.06890516,\n",
       "        0.18002583,  1.00999327,  0.23623307,  1.01479285,  0.38440344,\n",
       "        1.60734885,  0.96810911,  0.50389397,  0.28028781,  2.43189243,\n",
       "        0.09885726,  0.02071147,  1.35347789,  0.99269183,  1.55630558,\n",
       "        1.77874527,  0.1224997 ,  1.68952168,  0.41557527,  1.04028444])"
      ]
     },
     "execution_count": 61,
     "metadata": {},
     "output_type": "execute_result"
    }
   ],
   "source": [
    "sim[mask3d]"
   ]
  },
  {
   "cell_type": "markdown",
   "metadata": {},
   "source": [
    "### Sooooo much easier"
   ]
  },
  {
   "cell_type": "markdown",
   "metadata": {},
   "source": [
    "Short chains data set duplicated"
   ]
  },
  {
   "cell_type": "code",
   "execution_count": 132,
   "metadata": {
    "collapsed": true
   },
   "outputs": [],
   "source": [
    "def g_nan_mean(data):\n",
    "    ret = np.empty(np.shape(data)[0])\n",
    "    for i in range(np.shape(data)[0]):\n",
    "        temp = 1\n",
    "        steps = 0\n",
    "        for j in range(np.shape(data)[1]):\n",
    "            if ~np.isnan(data[i,j]):\n",
    "                temp *= data[i,j]\n",
    "            else:\n",
    "                break\n",
    "            steps += 1\n",
    "        ret[i] = temp**(1./steps)\n",
    "    return ret"
   ]
  },
  {
   "cell_type": "code",
   "execution_count": 128,
   "metadata": {},
   "outputs": [
    {
     "data": {
      "text/plain": [
       "array([[[  2.27000000e-01,   3.78000000e-01,              nan],\n",
       "        [  6.45000000e-02,   3.66000000e-01,              nan],\n",
       "        [  2.61000000e-01,   1.15000000e+00,   3.43000000e-01],\n",
       "        [  1.46000000e+00,   2.62000000e-02,   4.32000000e-01],\n",
       "        [  3.45000000e-01,   3.69000000e-01,   1.44000000e+01],\n",
       "        [  2.10000000e-01,   1.05000000e+00,   8.27000000e+00],\n",
       "        [  8.15000000e-01,   2.33000000e+00,   2.89000000e+00],\n",
       "        [  2.56200000e-01,   1.40270000e+00,   1.97750000e+00],\n",
       "        [  6.61000000e-02,   1.55000000e+00,   2.36380000e+00],\n",
       "        [  2.35070000e+00,   2.25822000e+01,   6.01855000e+01],\n",
       "        [  5.36000000e-02,   4.67100000e-01,   9.08000000e-02],\n",
       "        [  2.14000000e-01,   1.54000000e+00,   7.57000000e+00],\n",
       "        [  5.91000000e-02,   8.24000000e-01,              nan],\n",
       "        [  4.55000000e-02,   1.42000000e-02,              nan]],\n",
       "\n",
       "       [[  2.27000000e-01,   3.78000000e-01,              nan],\n",
       "        [  6.45000000e-02,   3.66000000e-01,              nan],\n",
       "        [  2.61000000e-01,   1.15000000e+00,   3.43000000e-01],\n",
       "        [  1.46000000e+00,   2.62000000e-02,   4.32000000e-01],\n",
       "        [  3.45000000e-01,   3.69000000e-01,   1.44000000e+01],\n",
       "        [  2.10000000e-01,   1.05000000e+00,   8.27000000e+00],\n",
       "        [  8.15000000e-01,   2.33000000e+00,   2.89000000e+00],\n",
       "        [  2.56200000e-01,   1.40270000e+00,   1.97750000e+00],\n",
       "        [  6.61000000e-02,   1.55000000e+00,   2.36380000e+00],\n",
       "        [  2.35070000e+00,   2.25822000e+01,   6.01855000e+01],\n",
       "        [  5.36000000e-02,   4.67100000e-01,   9.08000000e-02],\n",
       "        [  2.14000000e-01,   1.54000000e+00,   7.57000000e+00],\n",
       "        [  5.91000000e-02,   8.24000000e-01,              nan],\n",
       "        [  4.55000000e-02,   1.42000000e-02,              nan]]])"
      ]
     },
     "execution_count": 128,
     "metadata": {},
     "output_type": "execute_result"
    }
   ],
   "source": [
    "nbr_sets = 2\n",
    "shape = (nbr_sets, *np.shape(times))\n",
    "sim = np.empty(shape)\n",
    "for i in range(nbr_sets):\n",
    "    sim[i] = times\n",
    "sim"
   ]
  },
  {
   "cell_type": "markdown",
   "metadata": {},
   "source": [
    "Simulated chains"
   ]
  },
  {
   "cell_type": "code",
   "execution_count": 139,
   "metadata": {},
   "outputs": [
    {
     "data": {
      "text/plain": [
       "array([[[  1.56712886e+00,   5.79513173e-02,              nan],\n",
       "        [  3.52139134e-01,   8.33143058e-01,              nan],\n",
       "        [  4.24628219e-03,   1.27439893e+00,   5.43479472e-01],\n",
       "        ..., \n",
       "        [  2.07306528e-01,   3.90081824e-01,   2.69298628e+00],\n",
       "        [  1.77646086e+00,   3.72495292e-01,              nan],\n",
       "        [  1.43366176e+00,   1.88446807e+00,              nan]],\n",
       "\n",
       "       [[  1.07035557e+00,   2.51775923e+00,              nan],\n",
       "        [  1.33374853e+00,   4.85917444e-01,              nan],\n",
       "        [  7.26465317e-01,   8.73776745e-01,   2.13155575e+00],\n",
       "        ..., \n",
       "        [  1.21492072e-01,   4.73497503e-01,   2.06155147e+00],\n",
       "        [  1.47407165e+00,   5.61221535e-01,              nan],\n",
       "        [  4.74926044e-01,   1.86032362e-01,              nan]],\n",
       "\n",
       "       [[  2.02663338e+00,   9.91159746e-01,              nan],\n",
       "        [  3.26948507e-01,   1.41531830e+00,              nan],\n",
       "        [  1.42547589e-01,   2.49754156e+00,   1.03810784e-01],\n",
       "        ..., \n",
       "        [  2.57412801e+00,   1.99999263e+00,   1.16597572e+00],\n",
       "        [  3.93808998e-01,   6.11612486e-02,              nan],\n",
       "        [  6.25278573e-01,   6.64772182e-01,              nan]],\n",
       "\n",
       "       ..., \n",
       "       [[  2.43254435e-01,   8.06117559e-01,              nan],\n",
       "        [  1.14670716e-01,   6.47198078e-01,              nan],\n",
       "        [  7.02214658e-01,   4.83035267e-03,   1.90504222e+00],\n",
       "        ..., \n",
       "        [  6.33980693e-01,   7.61296490e-02,   1.57696475e+00],\n",
       "        [  1.95429597e+00,   6.48103584e-02,              nan],\n",
       "        [  4.38294238e-01,   1.17015527e+00,              nan]],\n",
       "\n",
       "       [[  5.92014222e-01,   2.53023353e+00,              nan],\n",
       "        [  2.41644029e+00,   2.82480848e+00,              nan],\n",
       "        [  2.64822680e-02,   1.06675152e-01,   1.14288847e+00],\n",
       "        ..., \n",
       "        [  8.89387291e-01,   2.74829559e+00,   6.32449455e-01],\n",
       "        [  2.26322952e-01,   4.25629222e+00,              nan],\n",
       "        [  3.13146128e-01,   2.75465836e-01,              nan]],\n",
       "\n",
       "       [[  1.07324652e+00,   1.22106466e+00,              nan],\n",
       "        [  3.39370303e-01,   5.34204314e-01,              nan],\n",
       "        [  1.02829488e+00,   5.40870865e-01,   1.46363391e+00],\n",
       "        ..., \n",
       "        [  3.32043648e-01,   9.99304091e-02,   8.56659640e-02],\n",
       "        [  1.24470658e-01,   9.63744381e-01,              nan],\n",
       "        [  1.35808592e+00,   4.89243587e-01,              nan]]])"
      ]
     },
     "execution_count": 139,
     "metadata": {},
     "output_type": "execute_result"
    }
   ],
   "source": [
    "nbr_sets = 30000\n",
    "shape = (nbr_sets, *np.shape(times))\n",
    "sim = np.random.exponential(scale=1, size=shape)\n",
    "for i in range(nbr_sets):\n",
    "    sim[i][np.isnan(times)] = np.nan\n",
    "sim"
   ]
  },
  {
   "cell_type": "code",
   "execution_count": 140,
   "metadata": {},
   "outputs": [
    {
     "name": "stdout",
     "output_type": "stream",
     "text": [
      "[ 0.95986713  0.72028492  0.87912637 ...,  0.96461685  0.90701418\n",
      "  0.72848911]\n"
     ]
    }
   ],
   "source": [
    "theta = np.log(sim)\n",
    "theta_var = np.zeros(np.shape(theta))\n",
    "gen_Schmidt = np.zeros(np.shape(theta)[:-1])\n",
    "for i in range(nbr_sets):\n",
    "    theta_var[i] = np.square(theta[i] - np.nanmean(theta[i], axis=0))\n",
    "    gen_Schmidt[i] = g_nan_mean(theta_var[i])\n",
    "\n",
    "#theta_var\n",
    "gen_Schmidt = np.sqrt(np.mean(gen_Schmidt, axis=1))\n",
    "print(gen_Schmidt)"
   ]
  },
  {
   "cell_type": "markdown",
   "metadata": {},
   "source": [
    "### Expected generalised Schmidt value"
   ]
  },
  {
   "cell_type": "code",
   "execution_count": 141,
   "metadata": {},
   "outputs": [
    {
     "data": {
      "text/plain": [
       "0.86205889477097097"
      ]
     },
     "execution_count": 141,
     "metadata": {},
     "output_type": "execute_result"
    }
   ],
   "source": [
    "E_Schmidt = np.mean(gen_Schmidt)\n",
    "E_Schmidt"
   ]
  },
  {
   "cell_type": "markdown",
   "metadata": {},
   "source": [
    "Percentiles"
   ]
  },
  {
   "cell_type": "code",
   "execution_count": 142,
   "metadata": {},
   "outputs": [
    {
     "data": {
      "text/plain": [
       "(0.62739897604916983, 1.1320658901785681)"
      ]
     },
     "execution_count": 142,
     "metadata": {},
     "output_type": "execute_result"
    }
   ],
   "source": [
    "np.percentile(gen_Schmidt, q=5), np.percentile(gen_Schmidt, q=95)"
   ]
  }
 ],
 "metadata": {
  "kernelspec": {
   "display_name": "Python 3",
   "language": "python",
   "name": "python3"
  },
  "language_info": {
   "codemirror_mode": {
    "name": "ipython",
    "version": 3
   },
   "file_extension": ".py",
   "mimetype": "text/x-python",
   "name": "python",
   "nbconvert_exporter": "python",
   "pygments_lexer": "ipython3",
   "version": "3.6.3"
  }
 },
 "nbformat": 4,
 "nbformat_minor": 2
}

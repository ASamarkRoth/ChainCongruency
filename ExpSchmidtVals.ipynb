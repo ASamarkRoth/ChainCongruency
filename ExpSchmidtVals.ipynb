{
 "cells": [
  {
   "cell_type": "markdown",
   "metadata": {},
   "source": [
    "# Generalised Schmidt values of experimental data"
   ]
  },
  {
   "cell_type": "code",
   "execution_count": 2,
   "metadata": {
    "collapsed": true
   },
   "outputs": [],
   "source": [
    "import os, sys, yaml, re\n",
    "from IPython.display import display, Markdown, Latex #Can write latex too!!!!"
   ]
  },
  {
   "cell_type": "code",
   "execution_count": 31,
   "metadata": {
    "collapsed": true
   },
   "outputs": [],
   "source": [
    "class DecayChain(yaml.YAMLObject):\n",
    "    \n",
    "    yaml_tag = u'!DecayChain'\n",
    "    \n",
    "    def __init__(self, idd=\"\", be=\"\", pi=\"\", ie=\"\", it=\"\", ea=[], eas=[], ta=[]):\n",
    "        self.ID = idd\n",
    "        self.BeamEnergy = be\n",
    "        self.Pixel = pi\n",
    "        self.ImplantEnergy = ie\n",
    "        self.ImplantTime = it\n",
    "        self.EAlpha, self.EAlphaSigma, self.TAlpha = ea, eas, ta\n",
    "\n",
    "    def __repr__(self):\n",
    "        return yaml.dump(self)\n",
    "    \n",
    "    def __str__(self):\n",
    "        return yaml.dump(self)\n",
    "    \n",
    "    def MDTable(self):\n",
    "        #Data to insert\n",
    "        rows = []\n",
    "        rows.append(['**ID**', '$E_{lab}$ (MeV)', '$E_{rec}$ (MeV)']) #'$E_1$ (MeV)', '$E_2$ (MeV)']\n",
    "        rows.append(['', '', '**pixel**']) #'**$\\Delta t_2$ (s)**']\n",
    "        rows.append([self.ID, self.BeamEnergy, self.ImplantEnergy])\n",
    "        rows.append(['', '', self.Pixel])\n",
    "        for i in range(len(self.EAlpha)):\n",
    "            rows[0].append('$E_'+str(i)+'$ (MeV)')\n",
    "            rows[1].append('$\\Delta t_'+str(i)+'$ (s)')\n",
    "            rows[2].append(self.EAlpha[i])\n",
    "            rows[3].append(self.TAlpha[i])\n",
    "        rows[2] = [str(i) for i in rows[2]]\n",
    "        rows[3] = [str(i) for i in rows[3]]\n",
    "        \n",
    "        #Formatting strings where data is to be put in\n",
    "        s_format = \"\"\"| \"\"\"\n",
    "        s_hline = \"\"\"|\"\"\"\n",
    "        s_empty = \"\"\"| \"\"\"\n",
    "\n",
    "        for i in range(len(rows[0])):\n",
    "            s_format += \"\"\"{\"\"\"+str(i)+\"\"\"} | \"\"\"\n",
    "            s_hline += \"\"\":---:| \"\"\"\n",
    "            s_empty += \"\"\" | \"\"\"\n",
    "            if i == len(rows[0])-1:\n",
    "                s_format += \"\"\"\\n\"\"\"\n",
    "                s_hline += \"\"\"\\n\"\"\"\n",
    "                s_empty += \"\"\"\\n\"\"\"\n",
    "\n",
    "        s_md = \"\"\"\"\"\"\n",
    "        s_md += s_empty+s_hline\n",
    "        for r in rows: \n",
    "            s_md += s_format.format(*r)\n",
    "        \n",
    "        #print(\"string:\\n\", s_md)\n",
    "        #print(Markdown(s_md))\n",
    "        display(Markdown(s_md))\n",
    "        return s_md\n",
    "\n",
    "class SetDecayChains:\n",
    "    \n",
    "    def __init__(self, path='', ids=[]):\n",
    "        s_files = \" \".join(os.listdir(path))\n",
    "        files = []\n",
    "        for s in ids:\n",
    "            files += (sorted(re.findall(string=s_files, pattern=\"Chain\"+s+\"\\d+.yml\")))\n",
    "        print(\"Reading the following files:\", files)\n",
    "        self.Chains = []\n",
    "        for f in files:\n",
    "            f_in = open(path+f, 'r')\n",
    "            self.Chains.append(yaml.load(f_in))\n",
    "            f_in.close()\n",
    "   "
   ]
  },
  {
   "cell_type": "markdown",
   "metadata": {},
   "source": [
    "## Reading in short chains and print the tables"
   ]
  },
  {
   "cell_type": "code",
   "execution_count": 32,
   "metadata": {},
   "outputs": [
    {
     "name": "stdout",
     "output_type": "stream",
     "text": [
      "Reading the following files: ['Chain1101.yml', 'Chain1102.yml', 'Chain1103.yml', 'Chain1104.yml', 'Chain1401.yml', 'Chain1402.yml', 'Chain1403.yml', 'Chain1404.yml', 'Chain1405.yml', 'Chain1406.yml', 'Chain1407.yml', 'Chain1701.yml', 'Chain1702.yml', 'Chain1703.yml']\n"
     ]
    },
    {
     "data": {
      "text/markdown": [
       "|  |  |  |  |  |  | \n",
       "|:---:| :---:| :---:| :---:| :---:| :---:| \n",
       "| **ID** | $E_{lab}$ (MeV) | $E_{rec}$ (MeV) | $E_0$ (MeV) | $E_1$ (MeV) | $E_2$ (MeV) | \n",
       "|  |  | **pixel** | $\\Delta t_0$ (s) | $\\Delta t_1$ (s) | $\\Delta t_2$ (s) | \n",
       "| 1101 | 240.5 | 11.38 | 10.377 | 9.886 | 215.7 | \n",
       "|  |  | 3 | 0.2562 | 1.4027 | 1.9775 | \n"
      ],
      "text/plain": [
       "<IPython.core.display.Markdown object>"
      ]
     },
     "metadata": {},
     "output_type": "display_data"
    },
    {
     "data": {
      "text/markdown": [
       "|  |  |  |  |  |  | \n",
       "|:---:| :---:| :---:| :---:| :---:| :---:| \n",
       "| **ID** | $E_{lab}$ (MeV) | $E_{rec}$ (MeV) | $E_0$ (MeV) | $E_1$ (MeV) | $E_2$ (MeV) | \n",
       "|  |  | **pixel** | $\\Delta t_0$ (s) | $\\Delta t_1$ (s) | $\\Delta t_2$ (s) | \n",
       "| 1102 | 241.0 | 15.18 | 10.54 | 9.916 | 214.9 | \n",
       "|  |  | 6 | 0.0661 | 1.55 | 2.3638 | \n"
      ],
      "text/plain": [
       "<IPython.core.display.Markdown object>"
      ]
     },
     "metadata": {},
     "output_type": "display_data"
    },
    {
     "data": {
      "text/markdown": [
       "|  |  |  |  |  |  | \n",
       "|:---:| :---:| :---:| :---:| :---:| :---:| \n",
       "| **ID** | $E_{lab}$ (MeV) | $E_{rec}$ (MeV) | $E_0$ (MeV) | $E_1$ (MeV) | $E_2$ (MeV) | \n",
       "|  |  | **pixel** | $\\Delta t_0$ (s) | $\\Delta t_1$ (s) | $\\Delta t_2$ (s) | \n",
       "| 1103 | 241.0 | 9.04 | 10.373 | 9.579 | 141.1 | \n",
       "|  |  | 2 | 2.3507 | 22.5822 | 60.1855 | \n"
      ],
      "text/plain": [
       "<IPython.core.display.Markdown object>"
      ]
     },
     "metadata": {},
     "output_type": "display_data"
    },
    {
     "data": {
      "text/markdown": [
       "|  |  |  |  |  |  | \n",
       "|:---:| :---:| :---:| :---:| :---:| :---:| \n",
       "| **ID** | $E_{lab}$ (MeV) | $E_{rec}$ (MeV) | $E_0$ (MeV) | $E_1$ (MeV) | $E_2$ (MeV) | \n",
       "|  |  | **pixel** | $\\Delta t_0$ (s) | $\\Delta t_1$ (s) | $\\Delta t_2$ (s) | \n",
       "| 1104 | 241.0 | 13.35 | 10.292 | 10.178 | 182.2 | \n",
       "|  |  | 11 | 0.0536 | 0.4671 | 0.0908 | \n"
      ],
      "text/plain": [
       "<IPython.core.display.Markdown object>"
      ]
     },
     "metadata": {},
     "output_type": "display_data"
    },
    {
     "data": {
      "text/markdown": [
       "|  |  |  |  |  | \n",
       "|:---:| :---:| :---:| :---:| :---:| \n",
       "| **ID** | $E_{lab}$ (MeV) | $E_{rec}$ (MeV) | $E_0$ (MeV) | $E_1$ (MeV) | \n",
       "|  |  | **pixel** | $\\Delta t_0$ (s) | $\\Delta t_1$ (s) | \n",
       "| 1401 | 245.0 | 12.3 | 10.51 | 242.0 | \n",
       "|  |  | 268 | 0.227 | 0.378 | \n"
      ],
      "text/plain": [
       "<IPython.core.display.Markdown object>"
      ]
     },
     "metadata": {},
     "output_type": "display_data"
    },
    {
     "data": {
      "text/markdown": [
       "|  |  |  |  |  | \n",
       "|:---:| :---:| :---:| :---:| :---:| \n",
       "| **ID** | $E_{lab}$ (MeV) | $E_{rec}$ (MeV) | $E_0$ (MeV) | $E_1$ (MeV) | \n",
       "|  |  | **pixel** | $\\Delta t_0$ (s) | $\\Delta t_1$ (s) | \n",
       "| 1402 | 242.1 | 16.2 | 1.45 | 211.0 | \n",
       "|  |  | 425 | 0.0645 | 0.366 | \n"
      ],
      "text/plain": [
       "<IPython.core.display.Markdown object>"
      ]
     },
     "metadata": {},
     "output_type": "display_data"
    },
    {
     "data": {
      "text/markdown": [
       "|  |  |  |  |  |  | \n",
       "|:---:| :---:| :---:| :---:| :---:| :---:| \n",
       "| **ID** | $E_{lab}$ (MeV) | $E_{rec}$ (MeV) | $E_0$ (MeV) | $E_1$ (MeV) | $E_2$ (MeV) | \n",
       "|  |  | **pixel** | $\\Delta t_0$ (s) | $\\Delta t_1$ (s) | $\\Delta t_2$ (s) | \n",
       "| 1403 | 242.1 | 13.9 | 10.54 | 9.95 | 196.0 | \n",
       "|  |  | 681 | 0.261 | 1.15 | 0.343 | \n"
      ],
      "text/plain": [
       "<IPython.core.display.Markdown object>"
      ]
     },
     "metadata": {},
     "output_type": "display_data"
    },
    {
     "data": {
      "text/markdown": [
       "|  |  |  |  |  |  | \n",
       "|:---:| :---:| :---:| :---:| :---:| :---:| \n",
       "| **ID** | $E_{lab}$ (MeV) | $E_{rec}$ (MeV) | $E_0$ (MeV) | $E_1$ (MeV) | $E_2$ (MeV) | \n",
       "|  |  | **pixel** | $\\Delta t_0$ (s) | $\\Delta t_1$ (s) | $\\Delta t_2$ (s) | \n",
       "| 1404 | 242.1 | 14.5 | 10.34 | 9.89 | 218.0 | \n",
       "|  |  | 344 | 1.46 | 0.0262 | 0.432 | \n"
      ],
      "text/plain": [
       "<IPython.core.display.Markdown object>"
      ]
     },
     "metadata": {},
     "output_type": "display_data"
    },
    {
     "data": {
      "text/markdown": [
       "|  |  |  |  |  |  | \n",
       "|:---:| :---:| :---:| :---:| :---:| :---:| \n",
       "| **ID** | $E_{lab}$ (MeV) | $E_{rec}$ (MeV) | $E_0$ (MeV) | $E_1$ (MeV) | $E_2$ (MeV) | \n",
       "|  |  | **pixel** | $\\Delta t_0$ (s) | $\\Delta t_1$ (s) | $\\Delta t_2$ (s) | \n",
       "| 1405 | 242.1 | 13.8 | 10.49 | 9.97 | 135.0 | \n",
       "|  |  | 554 | 0.345 | 0.369 | 14.4 | \n"
      ],
      "text/plain": [
       "<IPython.core.display.Markdown object>"
      ]
     },
     "metadata": {},
     "output_type": "display_data"
    },
    {
     "data": {
      "text/markdown": [
       "|  |  |  |  |  |  | \n",
       "|:---:| :---:| :---:| :---:| :---:| :---:| \n",
       "| **ID** | $E_{lab}$ (MeV) | $E_{rec}$ (MeV) | $E_0$ (MeV) | $E_1$ (MeV) | $E_2$ (MeV) | \n",
       "|  |  | **pixel** | $\\Delta t_0$ (s) | $\\Delta t_1$ (s) | $\\Delta t_2$ (s) | \n",
       "| 1406 | 245.0 | 14.5 | 10.53 | 9.89 | 230.0 | \n",
       "|  |  | 205 | 0.21 | 1.05 | 8.27 | \n"
      ],
      "text/plain": [
       "<IPython.core.display.Markdown object>"
      ]
     },
     "metadata": {},
     "output_type": "display_data"
    },
    {
     "data": {
      "text/markdown": [
       "|  |  |  |  |  |  | \n",
       "|:---:| :---:| :---:| :---:| :---:| :---:| \n",
       "| **ID** | $E_{lab}$ (MeV) | $E_{rec}$ (MeV) | $E_0$ (MeV) | $E_1$ (MeV) | $E_2$ (MeV) | \n",
       "|  |  | **pixel** | $\\Delta t_0$ (s) | $\\Delta t_1$ (s) | $\\Delta t_2$ (s) | \n",
       "| 1407 | 245.0 | 11.9 | 0.541 | 3.12 | 230.0 | \n",
       "|  |  | 128 | 0.815 | 2.33 | 2.89 | \n"
      ],
      "text/plain": [
       "<IPython.core.display.Markdown object>"
      ]
     },
     "metadata": {},
     "output_type": "display_data"
    },
    {
     "data": {
      "text/markdown": [
       "|  |  |  |  |  |  | \n",
       "|:---:| :---:| :---:| :---:| :---:| :---:| \n",
       "| **ID** | $E_{lab}$ (MeV) | $E_{rec}$ (MeV) | $E_0$ (MeV) | $E_1$ (MeV) | $E_2$ (MeV) | \n",
       "|  |  | **pixel** | $\\Delta t_0$ (s) | $\\Delta t_1$ (s) | $\\Delta t_2$ (s) | \n",
       "| 1701 | 270.0 | 11.65 | 10.49 | 9.82 | 107.0 | \n",
       "|  |  | 0 | 0.214 | 1.54 | 7.57 | \n"
      ],
      "text/plain": [
       "<IPython.core.display.Markdown object>"
      ]
     },
     "metadata": {},
     "output_type": "display_data"
    },
    {
     "data": {
      "text/markdown": [
       "|  |  |  |  |  | \n",
       "|:---:| :---:| :---:| :---:| :---:| \n",
       "| **ID** | $E_{lab}$ (MeV) | $E_{rec}$ (MeV) | $E_0$ (MeV) | $E_1$ (MeV) | \n",
       "|  |  | **pixel** | $\\Delta t_0$ (s) | $\\Delta t_1$ (s) | \n",
       "| 1702 | 270.0 | 11.18 | 10.49 | 187.0 | \n",
       "|  |  | 1 | 0.0591 | 0.824 | \n"
      ],
      "text/plain": [
       "<IPython.core.display.Markdown object>"
      ]
     },
     "metadata": {},
     "output_type": "display_data"
    },
    {
     "data": {
      "text/markdown": [
       "|  |  |  |  |  | \n",
       "|:---:| :---:| :---:| :---:| :---:| \n",
       "| **ID** | $E_{lab}$ (MeV) | $E_{rec}$ (MeV) | $E_0$ (MeV) | $E_1$ (MeV) | \n",
       "|  |  | **pixel** | $\\Delta t_0$ (s) | $\\Delta t_1$ (s) | \n",
       "| 1703 | 270.0 | 13.72 | 10.22 | 128.0 | \n",
       "|  |  | 0 | 0.0455 | 0.0142 | \n"
      ],
      "text/plain": [
       "<IPython.core.display.Markdown object>"
      ]
     },
     "metadata": {},
     "output_type": "display_data"
    }
   ],
   "source": [
    "s_path = \"E115_Chains/\"\n",
    "s_id = [\"11\", \"14\", \"17\"]\n",
    "\n",
    "setDC = SetDecayChains(s_path, s_id)\n",
    "for c in setDC.Chains:\n",
    "    c.MDTable()"
   ]
  },
  {
   "cell_type": "markdown",
   "metadata": {},
   "source": [
    "### Gather the lifetimes"
   ]
  },
  {
   "cell_type": "code",
   "execution_count": 35,
   "metadata": {},
   "outputs": [
    {
     "name": "stdout",
     "output_type": "stream",
     "text": [
      "Max steps= 3\n"
     ]
    }
   ],
   "source": [
    "import numpy as np\n",
    "\n",
    "max_steps = 0\n",
    "for chain in setDC.Chains:\n",
    "    if len(chain.TAlpha) > max_steps:\n",
    "        max_steps = len(chain.TAlpha)\n",
    "print(\"Max steps=\", max_steps)"
   ]
  },
  {
   "cell_type": "code",
   "execution_count": 43,
   "metadata": {},
   "outputs": [
    {
     "data": {
      "text/plain": [
       "array([[  2.56200000e-01,   1.40270000e+00,   1.97750000e+00],\n",
       "       [  6.61000000e-02,   1.55000000e+00,   2.36380000e+00],\n",
       "       [  2.35070000e+00,   2.25822000e+01,   6.01855000e+01],\n",
       "       [  5.36000000e-02,   4.67100000e-01,   9.08000000e-02],\n",
       "       [  2.27000000e-01,   3.78000000e-01,              nan],\n",
       "       [  6.45000000e-02,   3.66000000e-01,              nan],\n",
       "       [  2.61000000e-01,   1.15000000e+00,   3.43000000e-01],\n",
       "       [  1.46000000e+00,   2.62000000e-02,   4.32000000e-01],\n",
       "       [  3.45000000e-01,   3.69000000e-01,   1.44000000e+01],\n",
       "       [  2.10000000e-01,   1.05000000e+00,   8.27000000e+00],\n",
       "       [  8.15000000e-01,   2.33000000e+00,   2.89000000e+00],\n",
       "       [  2.14000000e-01,   1.54000000e+00,   7.57000000e+00],\n",
       "       [  5.91000000e-02,   8.24000000e-01,              nan],\n",
       "       [  4.55000000e-02,   1.42000000e-02,              nan]])"
      ]
     },
     "execution_count": 43,
     "metadata": {},
     "output_type": "execute_result"
    }
   ],
   "source": [
    "times = np.zeros((len(setDC.Chains), max_steps))\n",
    "for row, chain in enumerate(setDC.Chains):\n",
    "    steps = len(chain.TAlpha)\n",
    "    for i in range(max_steps):\n",
    "        if i < steps:\n",
    "            times[row][i] = chain.TAlpha[i]\n",
    "        else:\n",
    "            times[row][i] = np.nan       \n",
    "times"
   ]
  },
  {
   "cell_type": "code",
   "execution_count": 45,
   "metadata": {},
   "outputs": [
    {
     "data": {
      "text/plain": [
       "array([[-1.36179689,  0.33839895,  0.68183342],\n",
       "       [-2.71658653,  0.43825493,  0.86027049],\n",
       "       [ 0.85471316,  3.11716199,  4.09743146],\n",
       "       [-2.92620621, -0.76121191, -2.39909599],\n",
       "       [-1.48280526, -0.97286108,         nan],\n",
       "       [-2.74109006, -1.00512195,         nan],\n",
       "       [-1.34323487,  0.13976194, -1.07002483],\n",
       "       [ 0.37843644, -3.64199587, -0.83932969],\n",
       "       [-1.06421086, -0.99695863,  2.66722821],\n",
       "       [-1.56064775,  0.04879016,  2.11263451],\n",
       "       [-0.20456717,  0.84586827,  1.0612565 ],\n",
       "       [-1.54177926,  0.43178242,  2.02419307],\n",
       "       [-2.82852435, -0.19358475,         nan],\n",
       "       [-3.09004295, -4.25451331,         nan]])"
      ]
     },
     "execution_count": 45,
     "metadata": {},
     "output_type": "execute_result"
    }
   ],
   "source": [
    "thetas = np.log(times)\n",
    "thetas"
   ]
  },
  {
   "cell_type": "code",
   "execution_count": 48,
   "metadata": {},
   "outputs": [
    {
     "data": {
      "text/plain": [
       "array([-1.54488161, -0.46187349,  0.91963971])"
      ]
     },
     "execution_count": 48,
     "metadata": {},
     "output_type": "execute_result"
    }
   ],
   "source": [
    "theta_mean = np.nanmean(thetas, axis=0)\n",
    "theta_mean"
   ]
  },
  {
   "cell_type": "markdown",
   "metadata": {},
   "source": [
    "In a sense the following should be the standard Schmidt test values. From Table 1 in <https://link.springer.com/article/10.1007/s100500070129>:\n",
    "* Expected value: 1.19\n",
    "* Limits (5% quantiles) = [0.73, 1.77]"
   ]
  },
  {
   "cell_type": "code",
   "execution_count": 50,
   "metadata": {},
   "outputs": [
    {
     "data": {
      "text/plain": [
       "array([ 1.20445941,  1.75037006,  1.84235115])"
      ]
     },
     "execution_count": 50,
     "metadata": {},
     "output_type": "execute_result"
    }
   ],
   "source": [
    "np.nanstd(thetas, axis=0)"
   ]
  },
  {
   "cell_type": "markdown",
   "metadata": {},
   "source": [
    "Starting generalised Schmidt method"
   ]
  },
  {
   "cell_type": "code",
   "execution_count": 59,
   "metadata": {},
   "outputs": [
    {
     "data": {
      "text/plain": [
       "array([[  3.35200158e-02,   6.40435978e-01,   5.65518333e-02],\n",
       "       [  1.37289242e+00,   8.10231173e-01,   3.52470437e-03],\n",
       "       [  5.75805505e+00,   1.28094949e+01,   1.00983604e+01],\n",
       "       [  1.90805765e+00,   8.96034910e-02,   1.10140067e+01],\n",
       "       [  3.85347337e-03,   2.61108321e-01,              nan],\n",
       "       [  1.43091464e+00,   2.95118885e-01,              nan],\n",
       "       [  4.06614081e-02,   3.61965193e-01,   3.95876501e+00],\n",
       "       [  3.69915232e+00,   1.01131783e+01,   3.09397337e+00],\n",
       "       [  2.31044371e-01,   2.86316113e-01,   3.05406554e+00],\n",
       "       [  2.48571033e-04,   2.60777367e-01,   1.42323658e+00],\n",
       "       [  1.79644282e+00,   1.71018850e+00,   2.00553146e-02],\n",
       "       [  9.62456714e-06,   7.98620878e-01,   1.22003811e+00],\n",
       "       [  1.64773869e+00,   7.19788481e-02,              nan],\n",
       "       [  2.38752357e+00,   1.43841168e+01,              nan]])"
      ]
     },
     "execution_count": 59,
     "metadata": {},
     "output_type": "execute_result"
    }
   ],
   "source": [
    "theta_var = np.square(thetas - theta_mean)\n",
    "theta_var"
   ]
  },
  {
   "cell_type": "code",
   "execution_count": 60,
   "metadata": {},
   "outputs": [
    {
     "data": {
      "text/plain": [
       "0.64043597820955622"
      ]
     },
     "execution_count": 60,
     "metadata": {},
     "output_type": "execute_result"
    }
   ],
   "source": [
    "(thetas[0][1] - theta_mean[1])**2"
   ]
  },
  {
   "cell_type": "code",
   "execution_count": 63,
   "metadata": {},
   "outputs": [
    {
     "data": {
      "text/plain": [
       "array([ 0.10667817,  0.15768464,  9.06468871,  1.23486814,         nan,\n",
       "               nan,  0.38767665,  4.87343843,  0.58677713,  0.04518551,\n",
       "        0.39496834,  0.02108782,         nan,         nan])"
      ]
     },
     "execution_count": 63,
     "metadata": {},
     "output_type": "execute_result"
    }
   ],
   "source": [
    "from scipy.stats.mstats import gmean\n",
    "gmean(theta_var, axis=1)"
   ]
  },
  {
   "cell_type": "code",
   "execution_count": 67,
   "metadata": {},
   "outputs": [
    {
     "data": {
      "text/plain": [
       "[0.10667816623489171,\n",
       " 0.15768463742985117,\n",
       " 9.0646887124215567,\n",
       " 1.234868140528899,\n",
       " 0.031720245304774339,\n",
       " 0.64983838987885523,\n",
       " 0.38767665445829846,\n",
       " 4.8734384309017438,\n",
       " 0.58677712894870904,\n",
       " 0.045185508130979046,\n",
       " 0.3949683413943787,\n",
       " 0.021087823320976206,\n",
       " 0.34438689407536921,\n",
       " 5.8602404359054745]"
      ]
     },
     "execution_count": 67,
     "metadata": {},
     "output_type": "execute_result"
    }
   ],
   "source": [
    "theta_gmean = []\n",
    "for ti in theta_var:\n",
    "    temp = 1\n",
    "    steps = 0\n",
    "    for j in ti:\n",
    "        if not np.isnan(j):\n",
    "            temp *= j\n",
    "        else:\n",
    "            break\n",
    "        steps += 1\n",
    "    theta_gmean.append(temp**(1./steps))\n",
    "theta_gmean        "
   ]
  },
  {
   "cell_type": "markdown",
   "metadata": {},
   "source": [
    "Generalised Schmidt value is mean of the last"
   ]
  },
  {
   "cell_type": "code",
   "execution_count": 69,
   "metadata": {},
   "outputs": [
    {
     "data": {
      "text/plain": [
       "1.3027235072541228"
      ]
     },
     "execution_count": 69,
     "metadata": {},
     "output_type": "execute_result"
    }
   ],
   "source": [
    "np.sqrt(np.mean(theta_gmean))"
   ]
  },
  {
   "cell_type": "code",
   "execution_count": null,
   "metadata": {
    "collapsed": true
   },
   "outputs": [],
   "source": [
    "def CalcGeneralisedSchmidt(chains):\n",
    "    if not isinstance(SetDecayChains):\n",
    "        print(\"Object needs to of type SetDecayChains\")\n",
    "        return\n",
    "    FoMs = []\n",
    "    final_FOM = 1\n",
    "    theta_mean = 0\n",
    "    for chain in SetDecayChains:\n",
    "        steps = len(chain.TAlpha)\n",
    "        thetas = np.log(np.asarray(chain.TAlpha))\n",
    "        theta_mean = np.mean(thetas)\n",
    "        \n",
    "        for i in range(steps):\n",
    "            \n",
    "            \n",
    "        \n",
    "        "
   ]
  },
  {
   "cell_type": "code",
   "execution_count": 27,
   "metadata": {},
   "outputs": [
    {
     "ename": "TypeError",
     "evalue": "data type not understood",
     "output_type": "error",
     "traceback": [
      "\u001b[0;31m---------------------------------------------------------------------------\u001b[0m",
      "\u001b[0;31mTypeError\u001b[0m                                 Traceback (most recent call last)",
      "\u001b[0;32m<ipython-input-27-045d7a1b26cf>\u001b[0m in \u001b[0;36m<module>\u001b[0;34m()\u001b[0m\n\u001b[1;32m      1\u001b[0m \u001b[0ma\u001b[0m \u001b[0;34m=\u001b[0m \u001b[0mnp\u001b[0m\u001b[0;34m.\u001b[0m\u001b[0masarray\u001b[0m\u001b[0;34m(\u001b[0m\u001b[0;34m[\u001b[0m\u001b[0;36m1\u001b[0m\u001b[0;34m,\u001b[0m\u001b[0;36m2\u001b[0m\u001b[0;34m,\u001b[0m\u001b[0;36m3\u001b[0m\u001b[0;34m]\u001b[0m\u001b[0;34m)\u001b[0m\u001b[0;34m\u001b[0m\u001b[0m\n\u001b[1;32m      2\u001b[0m \u001b[0mb\u001b[0m \u001b[0;34m=\u001b[0m \u001b[0mnp\u001b[0m\u001b[0;34m.\u001b[0m\u001b[0masarray\u001b[0m\u001b[0;34m(\u001b[0m\u001b[0;34m[\u001b[0m\u001b[0;36m0\u001b[0m\u001b[0;34m,\u001b[0m \u001b[0;36m10\u001b[0m\u001b[0;34m]\u001b[0m\u001b[0;34m)\u001b[0m\u001b[0;34m\u001b[0m\u001b[0m\n\u001b[0;32m----> 3\u001b[0;31m \u001b[0mc\u001b[0m \u001b[0;34m=\u001b[0m \u001b[0mnp\u001b[0m\u001b[0;34m.\u001b[0m\u001b[0mmatrix\u001b[0m\u001b[0;34m(\u001b[0m\u001b[0ma\u001b[0m\u001b[0;34m,\u001b[0m \u001b[0mb\u001b[0m\u001b[0;34m)\u001b[0m\u001b[0;34m\u001b[0m\u001b[0m\n\u001b[0m\u001b[1;32m      4\u001b[0m \u001b[0mnp\u001b[0m\u001b[0;34m.\u001b[0m\u001b[0mnanmean\u001b[0m\u001b[0;34m(\u001b[0m\u001b[0ma\u001b[0m\u001b[0;34m)\u001b[0m\u001b[0;34m\u001b[0m\u001b[0m\n",
      "\u001b[0;32m/usr/lib/python3.6/site-packages/numpy/matrixlib/defmatrix.py\u001b[0m in \u001b[0;36m__new__\u001b[0;34m(subtype, data, dtype, copy)\u001b[0m\n\u001b[1;32m    223\u001b[0m                 \u001b[0mintype\u001b[0m \u001b[0;34m=\u001b[0m \u001b[0mdata\u001b[0m\u001b[0;34m.\u001b[0m\u001b[0mdtype\u001b[0m\u001b[0;34m\u001b[0m\u001b[0m\n\u001b[1;32m    224\u001b[0m             \u001b[0;32melse\u001b[0m\u001b[0;34m:\u001b[0m\u001b[0;34m\u001b[0m\u001b[0m\n\u001b[0;32m--> 225\u001b[0;31m                 \u001b[0mintype\u001b[0m \u001b[0;34m=\u001b[0m \u001b[0mN\u001b[0m\u001b[0;34m.\u001b[0m\u001b[0mdtype\u001b[0m\u001b[0;34m(\u001b[0m\u001b[0mdtype\u001b[0m\u001b[0;34m)\u001b[0m\u001b[0;34m\u001b[0m\u001b[0m\n\u001b[0m\u001b[1;32m    226\u001b[0m             \u001b[0mnew\u001b[0m \u001b[0;34m=\u001b[0m \u001b[0mdata\u001b[0m\u001b[0;34m.\u001b[0m\u001b[0mview\u001b[0m\u001b[0;34m(\u001b[0m\u001b[0msubtype\u001b[0m\u001b[0;34m)\u001b[0m\u001b[0;34m\u001b[0m\u001b[0m\n\u001b[1;32m    227\u001b[0m             \u001b[0;32mif\u001b[0m \u001b[0mintype\u001b[0m \u001b[0;34m!=\u001b[0m \u001b[0mdata\u001b[0m\u001b[0;34m.\u001b[0m\u001b[0mdtype\u001b[0m\u001b[0;34m:\u001b[0m\u001b[0;34m\u001b[0m\u001b[0m\n",
      "\u001b[0;31mTypeError\u001b[0m: data type not understood"
     ]
    }
   ],
   "source": [
    "a = np.asarray([1,2,3])\n",
    "b = np.asarray([0, 10])\n",
    "c = np.matrix(a, b)\n",
    "np.nanmean(a)"
   ]
  }
 ],
 "metadata": {
  "kernelspec": {
   "display_name": "Python 3",
   "language": "python",
   "name": "python3"
  },
  "language_info": {
   "codemirror_mode": {
    "name": "ipython",
    "version": 3
   },
   "file_extension": ".py",
   "mimetype": "text/x-python",
   "name": "python",
   "nbconvert_exporter": "python",
   "pygments_lexer": "ipython3",
   "version": "3.6.3"
  }
 },
 "nbformat": 4,
 "nbformat_minor": 2
}
